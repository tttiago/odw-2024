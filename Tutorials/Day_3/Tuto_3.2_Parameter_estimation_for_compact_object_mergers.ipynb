{
  "cells": [
    {
      "cell_type": "markdown",
      "metadata": {
        "Collapsed": "false",
        "id": "OjUNeFsxyguu"
      },
      "source": [
        "<span style=\"float: left;padding: 1.3em\">![logo](https://github.com/tttiago/odw-2024/blob/main/Tutorials/logo.png?raw=1)</span>\n",
        "\n",
        "\n",
        "#  Gravitational Wave Open Data Workshop #7\n",
        "\n",
        "\n",
        "## Tutorial 3.2: Parameter estimation for compact object mergers\n",
        "\n",
        "In this tutorial, we will learn how to run our own parameter estimation analysis for compact object mergers using the [bilby Bayesian inference library](https://lscsoft.docs.ligo.org/bilby/). Specifically, we will analyse the first detection, GW150914 using open data. Typically, a full analysis using stochastic sampling on a personal computer can take many hours if not days. Therefore, this analysis will be restricted to a non-spinning binary black hole model and neglect the marginalization of the calibration uncertainty. This will take about 30 minutes to run (note that a bottleneck is given by the first cell in the Section \"Create a likelihood-Run the analysis\": computational time depends a lot on the machine you decide to run, on Google Colab is about 10 minutes this cell only).\n",
        "   \n",
        "   \n",
        "You can find more examples of using bilby here: https://lscsoft.docs.ligo.org/bilby/examples.html\n",
        "\n",
        "[Click this link to view this tutorial in Google Colaboratory](https://colab.research.google.com/github/gw-odw/odw-2024/blob/main/Tutorials/Day_3/Tuto_3.2_Parameter_estimation_for_compact_object_mergers.ipynb)\n"
      ]
    },
    {
      "cell_type": "markdown",
      "metadata": {
        "Collapsed": "false",
        "id": "VwsIdKJ3yguv"
      },
      "source": [
        "##  Installation  (execute only if running on a cloud platform!)"
      ]
    },
    {
      "cell_type": "code",
      "execution_count": 19,
      "metadata": {
        "Collapsed": "false",
        "id": "eJeo4XrHyguw",
        "tags": []
      },
      "outputs": [],
      "source": [
        "# -- Use the following line in Google Colab\n",
        "! pip install -q bilby==2.2.2 matplotlib==3.7.3 dynesty==2.1.2 corner==2.2.2 gwpy==3.0.8 lalsuite==7.21"
      ]
    },
    {
      "cell_type": "markdown",
      "metadata": {
        "Collapsed": "false",
        "id": "f0q3Y_9gygu0"
      },
      "source": [
        "**Important:** With Google Colab, you may need to restart the runtime after running the cell above."
      ]
    },
    {
      "cell_type": "markdown",
      "metadata": {
        "Collapsed": "false",
        "id": "XK8fHu13ygu1"
      },
      "source": [
        "## Initialization\n",
        "\n",
        "We begin by importing some commonly used functions"
      ]
    },
    {
      "cell_type": "code",
      "execution_count": 20,
      "metadata": {
        "Collapsed": "false",
        "id": "HyRSGt6cygu2",
        "tags": []
      },
      "outputs": [],
      "source": [
        "import numpy as np\n",
        "import matplotlib.pyplot as plt\n",
        "\n",
        "import bilby\n",
        "from bilby.core.prior import Uniform, PowerLaw\n",
        "from bilby.gw.conversion import convert_to_lal_binary_black_hole_parameters, generate_all_bbh_parameters\n",
        "\n",
        "from gwpy.timeseries import TimeSeries"
      ]
    },
    {
      "cell_type": "markdown",
      "metadata": {
        "id": "uTTWYqnGpfDg"
      },
      "source": [
        "## Bilby version"
      ]
    },
    {
      "cell_type": "code",
      "execution_count": 21,
      "metadata": {
        "tags": [],
        "id": "vVjtg6UKpfDh",
        "outputId": "ab1e5138-beda-44cd-8104-c80ea1a13468",
        "colab": {
          "base_uri": "https://localhost:8080/"
        }
      },
      "outputs": [
        {
          "output_type": "stream",
          "name": "stdout",
          "text": [
            "2.2.2\n"
          ]
        }
      ],
      "source": [
        "print(bilby.__version__)"
      ]
    },
    {
      "cell_type": "markdown",
      "metadata": {
        "Collapsed": "false",
        "id": "_Hd4d4KVygu6"
      },
      "source": [
        "## Getting the data: GW150914\n",
        "\n",
        "In this notebook, we'll analyse GW150914. Our first task is to obtain some data!\n",
        "\n",
        "We need to know the trigger time. This can be found on the [GWOSC page](https://www.gw-openscience.org/events/GW150914/), here we define it as a variable"
      ]
    },
    {
      "cell_type": "code",
      "execution_count": 22,
      "metadata": {
        "Collapsed": "false",
        "id": "1cUhLaFIygu6",
        "tags": []
      },
      "outputs": [],
      "source": [
        "time_of_event = 1126259462.4"
      ]
    },
    {
      "cell_type": "markdown",
      "metadata": {
        "id": "bjpBoawrpfDq"
      },
      "source": [
        "### Set up empty interferometers\n",
        "\n",
        "We need to get some data to analyse. We'll be using data from the Hanford (H1) and Livingston (L1) ground-based gravitational wave detectors. To organise ourselves, we'll create two \"empty\" interferometers. These are empty in the sense that they don't have any strain data. But, they know about the orientation and location of their respective namesakes. It may also be interesting to note that they are initialised with the planned design sensitivity power spectral density of advanced LIGO - we'll overwrite this later on, but it is often useful for simulations."
      ]
    },
    {
      "cell_type": "code",
      "execution_count": 23,
      "metadata": {
        "tags": [],
        "id": "1JEf_RLOpfDr"
      },
      "outputs": [],
      "source": [
        "H1 = bilby.gw.detector.get_empty_interferometer(\"H1\")\n",
        "L1 = bilby.gw.detector.get_empty_interferometer(\"L1\")"
      ]
    },
    {
      "cell_type": "markdown",
      "metadata": {
        "id": "zQVNUAFRpfDt"
      },
      "source": [
        "### Download the data\n",
        "\n",
        "To analyse the signal, we need to download analysis data. Here, we will use [gwpy](https://gwpy.github.io/) to download the open strain data. For a general introduction to reading/writing data with gwpy, see [the documentation](https://gwpy.github.io/docs/stable/timeseries/).\n",
        "\n",
        "To analyse GW150914, we will use a 4s period duration centered on the event itself. It is standard to choose the data such that it always includes a \"post trigger duration\" of 2s. That is, there is always 2s of data after the trigger time. We therefore define all times relative to the trigger time, duration and this post-trigger duration."
      ]
    },
    {
      "cell_type": "code",
      "execution_count": 24,
      "metadata": {
        "tags": [],
        "id": "Ofr8s2UBpfDu"
      },
      "outputs": [],
      "source": [
        "# Definite times in relation to the trigger time (time_of_event), duration and post_trigger_duration\n",
        "post_trigger_duration = 2\n",
        "duration = 4\n",
        "analysis_start = time_of_event + post_trigger_duration - duration\n",
        "\n",
        "# Use gwpy to fetch the open data\n",
        "H1_analysis_data = TimeSeries.fetch_open_data(\n",
        "    \"H1\", analysis_start, analysis_start + duration, sample_rate=4096, cache=True)\n",
        "\n",
        "L1_analysis_data = TimeSeries.fetch_open_data(\n",
        "    \"L1\", analysis_start, analysis_start + duration, sample_rate=4096, cache=True)"
      ]
    },
    {
      "cell_type": "markdown",
      "metadata": {
        "id": "5vbszUJfpfDv"
      },
      "source": [
        "Here, `H1_analysis_data` and its L1 counterpart are gwpy `TimeSeries` objects. As such, we can plot the data itself out:"
      ]
    },
    {
      "cell_type": "code",
      "execution_count": 25,
      "metadata": {
        "tags": [],
        "id": "ChpLmFxSpfDw",
        "outputId": "db8ebe13-17e8-4ef8-a8ba-8dcc223224bf",
        "colab": {
          "base_uri": "https://localhost:8080/",
          "height": 370
        }
      },
      "outputs": [
        {
          "output_type": "display_data",
          "data": {
            "text/plain": [
              "<Plot size 1200x400 with 1 Axes>"
            ],
            "image/png": "[encoded data removed]"
          },
          "metadata": {}
        }
      ],
      "source": [
        "H1_analysis_data.plot()\n",
        "plt.show()"
      ]
    },
    {
      "cell_type": "markdown",
      "metadata": {
        "id": "Ge4-Q4kppfDz"
      },
      "source": [
        "This doesn't tell us much of course! It is dominated by the low frequency noise.\n",
        "\n",
        "### Initialise the Bilby interferometers with the strain data\n",
        "\n",
        "Now, we pass the downloaded strain data to our `H1` and `L1` Bilby interferometer objects. For other methods to set the strain data, see the various `set_strain_data*` methods."
      ]
    },
    {
      "cell_type": "code",
      "execution_count": 26,
      "metadata": {
        "tags": [],
        "id": "nS31NujxpfD1"
      },
      "outputs": [],
      "source": [
        "H1.set_strain_data_from_gwpy_timeseries(H1_analysis_data)\n",
        "L1.set_strain_data_from_gwpy_timeseries(L1_analysis_data)"
      ]
    },
    {
      "cell_type": "markdown",
      "metadata": {
        "id": "BRuIKzUopfD3"
      },
      "source": [
        "### Download the power spectral data\n",
        "\n",
        "Parameter estimation relies on having a power spectral density (PSD) - an estimate of the coloured noise properties of the data. Here, we will create a PSD using off-source data. For a review of methods to estimate PSDs, see, e.g. [Chatziioannou et al. (2019)](https://ui.adsabs.harvard.edu/abs/2019PhRvD.100j4004C/abstract).\n",
        "\n",
        "Again, we need to download this from the open strain data. We start by figuring out the amount of data needed - in this case 32 times the analysis duration. We fetch the segment with this duration immediately preceding the analysis segment."
      ]
    },
    {
      "cell_type": "code",
      "execution_count": 27,
      "metadata": {
        "tags": [],
        "id": "XOYKfm9BpfD4"
      },
      "outputs": [],
      "source": [
        "psd_duration = duration * 32\n",
        "psd_start_time = analysis_start - psd_duration\n",
        "\n",
        "H1_psd_data = TimeSeries.fetch_open_data(\n",
        "    \"H1\", psd_start_time, psd_start_time + psd_duration, sample_rate=4096, cache=True)\n",
        "\n",
        "L1_psd_data = TimeSeries.fetch_open_data(\n",
        "    \"L1\", psd_start_time, psd_start_time + psd_duration, sample_rate=4096, cache=True)"
      ]
    },
    {
      "cell_type": "markdown",
      "metadata": {
        "id": "J8U9jTelpfD6"
      },
      "source": [
        "Having obtained the data to generate the PSD, we now use the standard [gwpy psd](https://gwpy.github.io/docs/stable/api/gwpy.timeseries.TimeSeries/#gwpy.timeseries.TimeSeries.psd) method to calculate the PSD. Here, the `psd_alpha` variable is converting the `roll_off` applied to the strain data into the fractional value used by `gwpy`. This applies a window with an appropriate shape to the time-domain data."
      ]
    },
    {
      "cell_type": "code",
      "execution_count": 28,
      "metadata": {
        "scrolled": true,
        "tags": [],
        "id": "bTDtSbkXpfD7"
      },
      "outputs": [],
      "source": [
        "psd_alpha = 2 * H1.strain_data.roll_off / duration\n",
        "H1_psd = H1_psd_data.psd(fftlength=duration, overlap=0, window=(\"tukey\", psd_alpha), method=\"median\")\n",
        "L1_psd = L1_psd_data.psd(fftlength=duration, overlap=0, window=(\"tukey\", psd_alpha), method=\"median\")"
      ]
    },
    {
      "cell_type": "markdown",
      "metadata": {
        "id": "2YVh3-DXpfD8"
      },
      "source": [
        "### Initialise the PSD\n",
        "Now that we have PSDs for H1 and L1, we can overwrite the `power_spectal_density` attribute of our interferometers with a new PSD."
      ]
    },
    {
      "cell_type": "code",
      "execution_count": 29,
      "metadata": {
        "tags": [],
        "id": "7SZiJoYipfD8"
      },
      "outputs": [],
      "source": [
        "H1.power_spectral_density = bilby.gw.detector.PowerSpectralDensity(\n",
        "    frequency_array=H1_psd.frequencies.value, psd_array=H1_psd.value)\n",
        "L1.power_spectral_density = bilby.gw.detector.PowerSpectralDensity(\n",
        "    frequency_array=H1_psd.frequencies.value, psd_array=L1_psd.value)"
      ]
    },
    {
      "cell_type": "markdown",
      "metadata": {
        "id": "A8Q2DmPJpfD9"
      },
      "source": [
        "### Looking at the data\n",
        "Okay, we have spent a bit of time now downloading and initializing things. Let's check that everything makes sense. To do this, we'll plot our analysis data alongside the amplitude spectral density (ASD); this is just the square root of the PSD and has the right units to be comparable to the frequency-domain strain data."
      ]
    },
    {
      "cell_type": "code",
      "execution_count": 30,
      "metadata": {
        "tags": [],
        "id": "p9zeszVEpfD-",
        "outputId": "ef12c8a5-baea-4dda-d5cc-8591e85aec29",
        "colab": {
          "base_uri": "https://localhost:8080/",
          "height": 460
        }
      },
      "outputs": [
        {
          "output_type": "display_data",
          "data": {
            "text/plain": [
              "<Figure size 640x480 with 1 Axes>"
            ],
            "image/png": "[encoded data removed]"
          },
          "metadata": {}
        }
      ],
      "source": [
        "fig, ax = plt.subplots()\n",
        "idxs = H1.strain_data.frequency_mask  # This is a boolean mask of the frequencies which we'll use in the analysis\n",
        "ax.loglog(H1.strain_data.frequency_array[idxs],\n",
        "          np.abs(H1.strain_data.frequency_domain_strain[idxs]), label='strain')\n",
        "ax.loglog(H1.power_spectral_density.frequency_array[idxs],\n",
        "          H1.power_spectral_density.asd_array[idxs], label='ASD')\n",
        "ax.set_xlabel(\"Frequency [Hz]\")\n",
        "ax.set_ylabel(\"Strain [strain/$\\sqrt{Hz}$]\")\n",
        "ax.legend()\n",
        "plt.show()"
      ]
    },
    {
      "cell_type": "markdown",
      "metadata": {
        "id": "9aHK8zuUpfD-"
      },
      "source": [
        "What is happening at high frequencies? This is an artifact of the downsampling applied to the data - note that we downloaded the 4096Hz data which is downsampled from 16384Hz. We aren't really interested in the data at these high frequencies so let's adjust the maximum frequency used in the analysis to 1024 Hz and plot things again."
      ]
    },
    {
      "cell_type": "code",
      "execution_count": 31,
      "metadata": {
        "tags": [],
        "id": "HrlnP6inpfD_"
      },
      "outputs": [],
      "source": [
        "H1.maximum_frequency = 1024\n",
        "L1.maximum_frequency = 1024"
      ]
    },
    {
      "cell_type": "code",
      "execution_count": 32,
      "metadata": {
        "tags": [],
        "id": "BiM-0qcipfD_",
        "outputId": "95e12e10-8543-4fb3-d977-b710c640d336",
        "colab": {
          "base_uri": "https://localhost:8080/",
          "height": 460
        }
      },
      "outputs": [
        {
          "output_type": "display_data",
          "data": {
            "text/plain": [
              "<Figure size 640x480 with 1 Axes>"
            ],
            "image/png": "[encoded data removed]"
          },
          "metadata": {}
        }
      ],
      "source": [
        "fig, ax = plt.subplots()\n",
        "idxs = H1.strain_data.frequency_mask\n",
        "ax.loglog(H1.strain_data.frequency_array[idxs],\n",
        "          np.abs(H1.strain_data.frequency_domain_strain[idxs]), label='strain')\n",
        "ax.loglog(H1.power_spectral_density.frequency_array[idxs],\n",
        "          H1.power_spectral_density.asd_array[idxs], label='ASD')\n",
        "ax.set_xlabel(\"Frequency [Hz]\")\n",
        "ax.set_ylabel(\"Strain [strain/$\\sqrt{Hz}$]\")\n",
        "ax.legend()\n",
        "plt.show()"
      ]
    },
    {
      "cell_type": "markdown",
      "metadata": {
        "id": "VA_8ibNLpfEA"
      },
      "source": [
        "Okay, that is better - we now won't analyse any data near to the artifact produced by downsampling. Now we have some sensible data to analyse so let's get right on with doing the analysis!"
      ]
    },
    {
      "cell_type": "markdown",
      "metadata": {
        "id": "wvJTOhgrpfEB"
      },
      "source": [
        "## Low dimensional analysis\n",
        "\n",
        "In general a compact binary coalescence signal is described by 15 parameters describing the masses, spins, orientation, and position of the two compact objects along with a time at which the signal merges. The goal of parameter estimation is to figure out what the data (and any cogent prior information) can tell us about the likely values of these parameters - this is called the \"posterior distribution of the parameters\".\n",
        "\n",
        "To start with, we'll analyse the data fixing all but a few of the parameters to known values (in Bayesian lingo - we use delta function priors), this will enable us to run things in a few minutes rather than the many hours needed to do full parameter estimation.\n",
        "\n",
        "We'll start by thinking about the mass of the system. We call the heavier black hole the primary and label its mass $m_1$ and that of the secondary (lighter) black hole $m_2$. In this way, we always define $m_1 \\ge m_2$. It turns out that inferences about $m_1$ and $m_2$ are highly correlated, we'll see exactly what this means later on.\n",
        "\n",
        "Bayesian inference methods are powerful at figuring out highly correlated posteriors. But, we can help it along by sampling in parameters which are not highly correlated. In particular, we define a new parameter called the [chirp mass](https://en.wikipedia.org/wiki/Chirp_mass) to be\n",
        "\n",
        "$$ \\mathcal{M} = \\frac{(m_1 m_2)^{3/5}}{(m_1 + m_2)^{1/5}} $$\n",
        "\n",
        "and the mass ratio\n",
        "\n",
        "$$ q = \\frac{m_{2}}{m_1} $$\n",
        "\n",
        "If we sample (make inferences about) $\\mathcal{M}$ and $q$, our code is much faster than if we use $m_1$ and $m_2$ directly! Note that so long as equivalent prior is given - one can also sample in the component masses themselves and you will get the same answer, it is just much slower!\n",
        "\n",
        "Once we have inferred $\\mathcal{M}$ and $q$, we can then derive $m_1$ and $m_2$ from the resulting samples (we'll do that in just a moment).\n",
        "\n",
        "Okay, let's run a short (~1min on a single 2.8GHz core), low-dimensional parameter estimation analysis. This is done by defining a prior dictionary where all parameters are fixed, except those that we want to vary."
      ]
    },
    {
      "cell_type": "markdown",
      "metadata": {
        "id": "yrDV4zCSpfED"
      },
      "source": [
        "### Create a prior\n",
        "\n",
        "Here, we create a prior fixing everything except the chirp mass, mass ratio, phase and geocent_time parameters to fixed values. The first two were described above. The second two give the phase of the system and the time at which it merges referred to the centre of the Earth (which is the standard reference considering that different detectors detect the same signal at appreciable different times, depending on the source location in the sky)."
      ]
    },
    {
      "cell_type": "code",
      "execution_count": 33,
      "metadata": {
        "tags": [],
        "id": "m5wbEo26pfEE"
      },
      "outputs": [],
      "source": [
        "prior = bilby.core.prior.PriorDict()\n",
        "prior['chirp_mass'] = Uniform(name='chirp_mass', minimum=30.0,maximum=32.5)\n",
        "prior['mass_ratio'] = Uniform(name='mass_ratio', minimum=0.5, maximum=1)\n",
        "prior['phase'] = Uniform(name=\"phase\", minimum=0, maximum=2*np.pi)\n",
        "prior['geocent_time'] = Uniform(name=\"geocent_time\", minimum=time_of_event-0.1, maximum=time_of_event+0.1)\n",
        "prior['a_1'] =  0.0\n",
        "prior['a_2'] =  0.0\n",
        "prior['tilt_1'] =  0.0\n",
        "prior['tilt_2'] =  0.0\n",
        "prior['phi_12'] =  0.0\n",
        "prior['phi_jl'] =  0.0\n",
        "prior['dec'] =  -1.2232\n",
        "prior['ra'] =  2.19432\n",
        "prior['theta_jn'] =  1.89694\n",
        "prior['psi'] =  0.532268\n",
        "prior['luminosity_distance'] = PowerLaw(alpha=2, name='luminosity_distance', minimum=50, maximum=2000, unit='Mpc', latex_label='$d_L$')\n"
      ]
    },
    {
      "cell_type": "markdown",
      "metadata": {
        "id": "_9u-G-mcpfEG"
      },
      "source": [
        "## Create a likelihood\n",
        "\n",
        "For Bayesian inference, we need to evaluate the likelihood. In Bilby, we create a likelihood object. This is the communication interface between the sampling part of Bilby and the data. Explicitly, when Bilby is sampling it only uses the `parameters` and `log_likelihood()` of the likelihood object. This means the likelihood can be arbitrarily complicated and the sampling part of Bilby won't mind a bit!\n",
        "\n",
        "Let's create a `GravitationalWaveTransient`, a special inbuilt method carefully designed to wrap up evaluating the likelihood of a waveform model in some data."
      ]
    },
    {
      "cell_type": "code",
      "execution_count": 34,
      "metadata": {
        "tags": [],
        "id": "99OmsoPypfEH",
        "outputId": "913e8e07-8733-4b38-f3e7-59cb37b79a2e",
        "colab": {
          "base_uri": "https://localhost:8080/",
          "height": 153,
          "referenced_widgets": [
            "be431fcd14fe4fdcad1c7d93ea653ef7",
            "46c0192b42a241f19aa075e2b08f615f",
            "f7e9115453164e3a86601cdbe06ec880",
            "d8c147b6242d41ac9d3389826dbd0d93",
            "53cb83f7c5774dbe9b7e10bdbd9caa0d",
            "6763b367f55041db9442ff2c3ebab30d",
            "58acb8b2aa9f4172a7e35bf529d7303f",
            "49817245e8c34ddab98777693d116367",
            "45c62a5105104b4d85136f558efe3b28",
            "981043f605d94ee2be6932084c7d192d",
            "8981e234969e4bdd98eb7f26a9f4a43f"
          ]
        }
      },
      "outputs": [
        {
          "output_type": "stream",
          "name": "stderr",
          "text": [
            "14:28 bilby INFO    : Waveform generator initiated with\n",
            "  frequency_domain_source_model: bilby.gw.source.lal_binary_black_hole\n",
            "  time_domain_source_model: None\n",
            "  parameter_conversion: bilby.gw.conversion.convert_to_lal_binary_black_hole_parameters\n",
            "14:28 bilby INFO    : Distance marginalisation file .distance_marginalization_lookup.npz does not exist\n",
            "14:28 bilby INFO    : Building lookup table for distance marginalisation.\n"
          ]
        },
        {
          "output_type": "display_data",
          "data": {
            "text/plain": [
              "  0%|          | 0/400 [00:00<?, ?it/s]"
            ],
            "application/vnd.jupyter.widget-view+json": {
              "version_major": 2,
              "version_minor": 0,
              "model_id": "be431fcd14fe4fdcad1c7d93ea653ef7"
            }
          },
          "metadata": {}
        }
      ],
      "source": [
        "# First, put our \"data\" created above into a list of interferometers (the order is arbitrary)\n",
        "interferometers = [H1, L1]\n",
        "\n",
        "# Next create a dictionary of arguments which we pass into the LALSimulation waveform - we specify the waveform approximant here\n",
        "waveform_arguments = dict(\n",
        "    waveform_approximant='IMRPhenomXP', reference_frequency=100., catch_waveform_errors=True)\n",
        "\n",
        "# Next, create a waveform_generator object. This wraps up some of the jobs of converting between parameters etc\n",
        "waveform_generator = bilby.gw.WaveformGenerator(\n",
        "    frequency_domain_source_model=bilby.gw.source.lal_binary_black_hole,\n",
        "    waveform_arguments=waveform_arguments,\n",
        "    parameter_conversion=convert_to_lal_binary_black_hole_parameters)\n",
        "\n",
        "# Finally, create our likelihood, passing in what is needed to get going\n",
        "likelihood = bilby.gw.likelihood.GravitationalWaveTransient(\n",
        "    interferometers, waveform_generator, priors=prior,\n",
        "    time_marginalization=True, phase_marginalization=True, distance_marginalization=True)"
      ]
    },
    {
      "cell_type": "markdown",
      "metadata": {
        "id": "dB7qdVf1pfEI"
      },
      "source": [
        "Note that we also specify `time_marginalization=True`, `phase_marginalization=True`, and `distance_marginalization=True`. This is a trick often used in Bayesian inference. We analytically marginalize (integrate) over the time/phase of the system while sampling, effectively reducing the parameter space and making it easier to sample. Bilby will then figure out (after the sampling) posteriors for these marginalized parameters. For an introduction to this topic, see [Thrane & Talbot (2019)](https://arxiv.org/abs/1809.02293)."
      ]
    },
    {
      "cell_type": "markdown",
      "metadata": {
        "id": "NqwT6nRBpfEI"
      },
      "source": [
        "### Run the analysis"
      ]
    },
    {
      "cell_type": "markdown",
      "metadata": {
        "Collapsed": "false",
        "id": "LCfygeVyygvM"
      },
      "source": [
        "Now that the prior is set-up and the likelihood is set-up (with the data and the signal mode), we can run the sampler to get the posterior result. This function takes the likelihood and prior along with some options for how to do the sampling and how to save the data."
      ]
    },
    {
      "cell_type": "code",
      "execution_count": 35,
      "metadata": {
        "Collapsed": "false",
        "colab": {
          "base_uri": "https://localhost:8080/",
          "height": 996,
          "referenced_widgets": [
            "21652d35453147e8a7d93fae5771a255",
            "68a6e5664e7a455b8a967f0a61dce25a",
            "f238f8e1a9e54bd5aa0dd66201e152d1",
            "aa924f34ea2d4474ac6ea353e870b6d3",
            "78030df010d04579a6fc9dcd4a5a218b",
            "5e7533c0f96a4735a6cf281f9de24c46",
            "8a6dfd908d5b4bc2be1d562e5b0f709a",
            "22f6613677754107b5818d544e9cd67b",
            "9115c44ee2b04393a08574898426167b",
            "487c5688a8a14212bf4dc9afe791d7f1",
            "0969717707d84d8e8cee2a13c03b568f",
            "e5f699c7de3745769d8ffa9c88ef9ed4",
            "ec88401398e241abbce8181d22853ef5",
            "248269d7c3684903bf4ed350064cbcd1",
            "ec2a2ea0cd3147e2af701ed95eac2003",
            "0485d6db4dca4251a57cae67fd83dc06",
            "b083b2e004dd4b969c2fb843ee286475",
            "68aa1abbcc624f7a9318b84f7b2f0428",
            "e4db09356487404ca2eabdcd796c928b",
            "17b01a0d842c4b1ca23c923a6b19ebe9",
            "6a8b9eed074d4befb5f149dafcadaf29",
            "385180985228442ebfbed9dbdb17fefd",
            "8a3d7b815d444c08ad8674d8d352e7d3",
            "c06634813d944d7dba9171378d956311",
            "a70bfa9128c24d818eac70b651276368",
            "3ce9684be334440b96e04f52720cee76",
            "2bade6dc729d49418d21a05ebc3a64e8",
            "d09858c9f76d4b85be6a6975282f4281",
            "a684514985f14271b6846624bc24738b",
            "a05e4656d27a4eeab5e1831764b926a5",
            "4294332c94214effb35892d2a2982280",
            "ae39a48d1c7a450587c07389dd25f949",
            "53241586aed54bc4bfd7a44714d1d3b5",
            "d0e78443c5e9437e8804127ee8d96256",
            "e1d119e723dc4c19a99aab4df9650403",
            "639ddaef878c4e449c088409924cb3bb",
            "c748310873144bfb87f0f04ad43435eb",
            "da68e0adc1dc44a7aa340cab440e1cac",
            "e328a812c7d34cc6932ef087b97b496b",
            "56fdafd920e5468980113a1f89c10879",
            "e93847fdb31b40308b94defaa32e3e93",
            "93e215f588694410ae02a1bbd798e547",
            "5d989097e88c43fd9757f2e62e026eb5",
            "42c56748edb8499e80d6fb0bf6a14c60",
            "40115bc2aa2f4c7e9233fafbb8b59f71",
            "6f2aff29f7124d509190c0bf49002c28",
            "e198114fc5d34d88bde0f7854d99670c",
            "b130ee885d8f4fab919478b625f54f90",
            "4bda00c83f904b80a4a498e1d8650d6b",
            "3e94df2ab38e4c5790887672f97d3fa5",
            "493bfd89ccc64d71b14fb9cf572e37ef",
            "6b44acdf8a1a49e7bba8e27efe582e08",
            "ff3e63ad73534a1abf096c2f3e024277",
            "bdd71cc645f24b1b8f1a28ea32ab5edb",
            "0ce40da1858a42419ce1900ddffe8f7b"
          ]
        },
        "id": "HHS9JSX3ygvN",
        "outputId": "3d351437-3a14-4fda-9a9b-fd13f809f724",
        "tags": []
      },
      "outputs": [
        {
          "output_type": "stream",
          "name": "stderr",
          "text": [
            "14:30 bilby INFO    : Running for label 'GW150914', output will be saved to 'short'\n",
            "14:30 bilby INFO    : Using lal version 7.4.1\n",
            "14:30 bilby INFO    : Using lal git version Branch: None;Tag: lalsuite-v7.21;Id: cc61d073d248e45c3c75d3732ee642448f7bc008;;Builder: Unknown User <>;Repository status: CLEAN: All modifications committed\n",
            "14:30 bilby INFO    : Using lalsimulation version 5.3.1\n",
            "14:30 bilby INFO    : Using lalsimulation git version Branch: None;Tag: lalsuite-v7.21;Id: cc61d073d248e45c3c75d3732ee642448f7bc008;;Builder: Unknown User <>;Repository status: CLEAN: All modifications committed\n",
            "/usr/local/lib/python3.10/dist-packages/_distutils_hack/__init__.py:32: UserWarning: Setuptools is replacing distutils. Support for replacing an already imported distutils is deprecated. In the future, this condition will fail. Register concerns at https://github.com/pypa/setuptools/issues/new?template=distutils-deprecation.yml\n",
            "  warnings.warn(\n",
            "14:30 bilby INFO    : Analysis priors:\n",
            "14:30 bilby INFO    : chirp_mass=Uniform(minimum=30.0, maximum=32.5, name='chirp_mass', latex_label='$\\\\mathcal{M}$', unit=None, boundary=None)\n",
            "14:30 bilby INFO    : mass_ratio=Uniform(minimum=0.5, maximum=1, name='mass_ratio', latex_label='$q$', unit=None, boundary=None)\n",
            "14:30 bilby INFO    : time_jitter=Uniform(minimum=-0.000244140625, maximum=0.000244140625, name='time_jitter', latex_label='$t_j$', unit=None, boundary='periodic')\n",
            "14:30 bilby INFO    : phase=0.0\n",
            "14:30 bilby INFO    : geocent_time=1126259460.3999023\n",
            "14:30 bilby INFO    : a_1=0.0\n",
            "14:30 bilby INFO    : a_2=0.0\n",
            "14:30 bilby INFO    : tilt_1=0.0\n",
            "14:30 bilby INFO    : tilt_2=0.0\n",
            "14:30 bilby INFO    : phi_12=0.0\n",
            "14:30 bilby INFO    : phi_jl=0.0\n",
            "14:30 bilby INFO    : dec=-1.2232\n",
            "14:30 bilby INFO    : ra=2.19432\n",
            "14:30 bilby INFO    : theta_jn=1.89694\n",
            "14:30 bilby INFO    : psi=0.532268\n",
            "14:30 bilby INFO    : luminosity_distance=1587.4093196389506\n",
            "14:30 bilby INFO    : Analysis likelihood class: <class 'bilby.gw.likelihood.base.GravitationalWaveTransient'>\n",
            "14:30 bilby INFO    : Analysis likelihood noise evidence: -8534.561633624302\n",
            "14:30 bilby INFO    : Single likelihood evaluation took 8.254e-02 s\n",
            "14:30 bilby INFO    : Using sampler Dynesty with kwargs {'nlive': 250, 'bound': 'live', 'sample': 'act-walk', 'periodic': None, 'reflective': None, 'update_interval': 600, 'first_update': None, 'npdim': None, 'rstate': None, 'queue_size': 1, 'pool': None, 'use_pool': None, 'live_points': None, 'logl_args': None, 'logl_kwargs': None, 'ptform_args': None, 'ptform_kwargs': None, 'gradient': None, 'grad_args': None, 'grad_kwargs': None, 'compute_jac': False, 'enlarge': None, 'bootstrap': None, 'walks': 100, 'facc': 0.2, 'slices': None, 'fmove': 0.9, 'max_move': 100, 'update_func': None, 'ncdim': None, 'blob': False, 'save_history': False, 'history_filename': None, 'maxiter': None, 'maxcall': None, 'dlogz': 1.0, 'logl_max': inf, 'n_effective': None, 'add_live': True, 'print_progress': True, 'print_func': <bound method Dynesty._print_func of <bilby.core.sampler.dynesty.Dynesty object at 0x7c62bf14c940>>, 'save_bounds': False, 'checkpoint_file': None, 'checkpoint_every': 60, 'resume': False}\n",
            "14:30 bilby INFO    : Checkpoint every check_point_delta_t = 600s\n",
            "14:30 bilby INFO    : Using dynesty version 2.1.2\n",
            "14:30 bilby INFO    : Using the bilby-implemented act-walk sampling tracking the autocorrelation function and thinning by 2 with maximum length 10000\n",
            "14:30 bilby INFO    : Generating initial points from the prior\n"
          ]
        },
        {
          "output_type": "display_data",
          "data": {
            "text/plain": [
              "1it [00:00, ?it/s]"
            ],
            "application/vnd.jupyter.widget-view+json": {
              "version_major": 2,
              "version_minor": 0,
              "model_id": "21652d35453147e8a7d93fae5771a255"
            }
          },
          "metadata": {}
        },
        {
          "output_type": "stream",
          "name": "stderr",
          "text": [
            "14:37 bilby INFO    : Written checkpoint file short/GW150914_resume.pickle\n",
            "14:37 bilby INFO    : Rejection sampling nested samples to obtain 282 posterior samples\n",
            "14:37 bilby INFO    : Sampling time: 0:06:30.043336\n"
          ]
        },
        {
          "output_type": "stream",
          "name": "stdout",
          "text": [
            "\n"
          ]
        },
        {
          "output_type": "stream",
          "name": "stderr",
          "text": [
            "14:37 bilby INFO    : Computing per-detector log likelihoods.\n"
          ]
        },
        {
          "output_type": "display_data",
          "data": {
            "text/plain": [
              "  0%|          | 0/282 [00:00<?, ?it/s]"
            ],
            "application/vnd.jupyter.widget-view+json": {
              "version_major": 2,
              "version_minor": 0,
              "model_id": "e5f699c7de3745769d8ffa9c88ef9ed4"
            }
          },
          "metadata": {}
        },
        {
          "output_type": "stream",
          "name": "stderr",
          "text": [
            "14:38 bilby INFO    : Reconstructing marginalised parameters.\n"
          ]
        },
        {
          "output_type": "display_data",
          "data": {
            "text/plain": [
              "  0%|          | 0/282 [00:00<?, ?it/s]"
            ],
            "application/vnd.jupyter.widget-view+json": {
              "version_major": 2,
              "version_minor": 0,
              "model_id": "8a3d7b815d444c08ad8674d8d352e7d3"
            }
          },
          "metadata": {}
        },
        {
          "output_type": "stream",
          "name": "stderr",
          "text": [
            "14:38 bilby INFO    : Generating sky frame parameters.\n"
          ]
        },
        {
          "output_type": "display_data",
          "data": {
            "text/plain": [
              "  0%|          | 0/282 [00:00<?, ?it/s]"
            ],
            "application/vnd.jupyter.widget-view+json": {
              "version_major": 2,
              "version_minor": 0,
              "model_id": "d0e78443c5e9437e8804127ee8d96256"
            }
          },
          "metadata": {}
        },
        {
          "output_type": "stream",
          "name": "stderr",
          "text": [
            "14:38 bilby INFO    : Computing SNRs for every sample.\n"
          ]
        },
        {
          "output_type": "display_data",
          "data": {
            "text/plain": [
              "  0%|          | 0/282 [00:00<?, ?it/s]"
            ],
            "application/vnd.jupyter.widget-view+json": {
              "version_major": 2,
              "version_minor": 0,
              "model_id": "40115bc2aa2f4c7e9233fafbb8b59f71"
            }
          },
          "metadata": {}
        },
        {
          "output_type": "stream",
          "name": "stderr",
          "text": [
            "14:39 bilby INFO    : Summary of results:\n",
            "nsamples: 282\n",
            "ln_noise_evidence: -8534.562\n",
            "ln_evidence: -8249.997 +/-  0.207\n",
            "ln_bayes_factor: 284.564 +/-  0.207\n",
            "\n"
          ]
        }
      ],
      "source": [
        "result_short = bilby.run_sampler(\n",
        "    likelihood, prior, sampler='dynesty', outdir='short', label=\"GW150914\",\n",
        "    conversion_function=bilby.gw.conversion.generate_all_bbh_parameters,\n",
        "    nlive=250, dlogz=1.,  # <- Arguments are used to make things fast - not recommended for general use\n",
        "    clean=True,\n",
        ")"
      ]
    },
    {
      "cell_type": "markdown",
      "metadata": {
        "id": "72MgmZJbpfEL"
      },
      "source": [
        "### Looking at the outputs"
      ]
    },
    {
      "cell_type": "markdown",
      "metadata": {
        "Collapsed": "false",
        "id": "wKR045TIygvT"
      },
      "source": [
        "The `run_sampler` returned `result_short` - this is a Bilby result object. The posterior samples are stored in a [pandas data frame](https://pandas.pydata.org/pandas-docs/stable/reference/api/pandas.DataFrame.html) (think of this like a spreadsheet); let's take a look at it"
      ]
    },
    {
      "cell_type": "code",
      "execution_count": 36,
      "metadata": {
        "tags": [],
        "id": "B0B-80pYpfEM",
        "outputId": "719117f9-4d63-4a50-9fd0-43e18b640bd9",
        "colab": {
          "base_uri": "https://localhost:8080/",
          "height": 444
        }
      },
      "outputs": [
        {
          "output_type": "execute_result",
          "data": {
            "text/plain": [
              "     chirp_mass  mass_ratio  time_jitter     phase  geocent_time  a_1  a_2  \\\n",
              "0     30.523660    0.571546     0.000118  4.494057  1.126259e+09  0.0  0.0   \n",
              "1     31.051612    0.642816    -0.000115  4.488806  1.126259e+09  0.0  0.0   \n",
              "2     30.963228    0.629020     0.000146  4.489585  1.126259e+09  0.0  0.0   \n",
              "3     30.445764    0.593067     0.000236  4.497409  1.126259e+09  0.0  0.0   \n",
              "4     31.706811    0.860724     0.000072  4.456092  1.126259e+09  0.0  0.0   \n",
              "..          ...         ...          ...       ...           ...  ...  ...   \n",
              "277   31.073186    0.922447    -0.000096  4.616890  1.126259e+09  0.0  0.0   \n",
              "278   31.034572    0.946716    -0.000052  1.611119  1.126259e+09  0.0  0.0   \n",
              "279   31.033430    0.982628    -0.000051  1.481088  1.126259e+09  0.0  0.0   \n",
              "280   31.043019    0.968314    -0.000034  4.764772  1.126259e+09  0.0  0.0   \n",
              "281   31.079322    0.952847    -0.000070  1.567103  1.126259e+09  0.0  0.0   \n",
              "\n",
              "     tilt_1  tilt_2  phi_12  ...  chi_2_in_plane  chi_p  cos_tilt_1  \\\n",
              "0       0.0     0.0     0.0  ...             0.0    0.0         1.0   \n",
              "1       0.0     0.0     0.0  ...             0.0    0.0         1.0   \n",
              "2       0.0     0.0     0.0  ...             0.0    0.0         1.0   \n",
              "3       0.0     0.0     0.0  ...             0.0    0.0         1.0   \n",
              "4       0.0     0.0     0.0  ...             0.0    0.0         1.0   \n",
              "..      ...     ...     ...  ...             ...    ...         ...   \n",
              "277     0.0     0.0     0.0  ...             0.0    0.0         1.0   \n",
              "278     0.0     0.0     0.0  ...             0.0    0.0         1.0   \n",
              "279     0.0     0.0     0.0  ...             0.0    0.0         1.0   \n",
              "280     0.0     0.0     0.0  ...             0.0    0.0         1.0   \n",
              "281     0.0     0.0     0.0  ...             0.0    0.0         1.0   \n",
              "\n",
              "     cos_tilt_2  redshift  comoving_distance  mass_1_source  mass_2_source  \\\n",
              "0           1.0  0.061597         268.667413      44.026270      25.163029   \n",
              "1           1.0  0.061894         269.944403      42.098702      27.061736   \n",
              "2           1.0  0.063136         275.281941      42.407599      26.675246   \n",
              "3           1.0  0.063897         278.548143      42.974573      25.486820   \n",
              "4           1.0  0.068084         296.502043      36.776052      31.654020   \n",
              "..          ...       ...                ...            ...            ...   \n",
              "277         1.0  0.060768         265.106321      35.040595      32.323078   \n",
              "278         1.0  0.065020         283.366817      34.404601      32.571399   \n",
              "279         1.0  0.064865         282.699078      33.771490      33.184803   \n",
              "280         1.0  0.065688         286.231242      34.005023      32.927532   \n",
              "281         1.0  0.064887         282.793343      34.346937      32.727365   \n",
              "\n",
              "     chirp_mass_source total_mass_source  \n",
              "0            28.752598         69.189299  \n",
              "1            29.241730         69.160438  \n",
              "2            29.124416         69.082845  \n",
              "3            28.617203         68.461393  \n",
              "4            29.685679         68.430072  \n",
              "..                 ...               ...  \n",
              "277          29.293101         67.363673  \n",
              "278          29.139891         66.975999  \n",
              "279          29.143077         66.956293  \n",
              "280          29.129556         66.932555  \n",
              "281          29.185572         67.074302  \n",
              "\n",
              "[282 rows x 52 columns]"
            ],
            "text/html": [
              "\n",
              "  <div id=\"df-c96e943d-18c0-4828-b755-135fbd1125c9\" class=\"colab-df-container\">\n",
              "    <div>\n",
              "<style scoped>\n",
              "    .dataframe tbody tr th:only-of-type {\n",
              "        vertical-align: middle;\n",
              "    }\n",
              "\n",
              "    .dataframe tbody tr th {\n",
              "        vertical-align: top;\n",
              "    }\n",
              "\n",
              "    .dataframe thead th {\n",
              "        text-align: right;\n",
              "    }\n",
              "</style>\n",
              "<table border=\"1\" class=\"dataframe\">\n",
              "  <thead>\n",
              "    <tr style=\"text-align: right;\">\n",
              "      <th></th>\n",
              "      <th>chirp_mass</th>\n",
              "      <th>mass_ratio</th>\n",
              "      <th>time_jitter</th>\n",
              "      <th>phase</th>\n",
              "      <th>geocent_time</th>\n",
              "      <th>a_1</th>\n",
              "      <th>a_2</th>\n",
              "      <th>tilt_1</th>\n",
              "      <th>tilt_2</th>\n",
              "      <th>phi_12</th>\n",
              "      <th>...</th>\n",
              "      <th>chi_2_in_plane</th>\n",
              "      <th>chi_p</th>\n",
              "      <th>cos_tilt_1</th>\n",
              "      <th>cos_tilt_2</th>\n",
              "      <th>redshift</th>\n",
              "      <th>comoving_distance</th>\n",
              "      <th>mass_1_source</th>\n",
              "      <th>mass_2_source</th>\n",
              "      <th>chirp_mass_source</th>\n",
              "      <th>total_mass_source</th>\n",
              "    </tr>\n",
              "  </thead>\n",
              "  <tbody>\n",
              "    <tr>\n",
              "      <th>0</th>\n",
              "      <td>30.523660</td>\n",
              "      <td>0.571546</td>\n",
              "      <td>0.000118</td>\n",
              "      <td>4.494057</td>\n",
              "      <td>1.126259e+09</td>\n",
              "      <td>0.0</td>\n",
              "      <td>0.0</td>\n",
              "      <td>0.0</td>\n",
              "      <td>0.0</td>\n",
              "      <td>0.0</td>\n",
              "      <td>...</td>\n",
              "      <td>0.0</td>\n",
              "      <td>0.0</td>\n",
              "      <td>1.0</td>\n",
              "      <td>1.0</td>\n",
              "      <td>0.061597</td>\n",
              "      <td>268.667413</td>\n",
              "      <td>44.026270</td>\n",
              "      <td>25.163029</td>\n",
              "      <td>28.752598</td>\n",
              "      <td>69.189299</td>\n",
              "    </tr>\n",
              "    <tr>\n",
              "      <th>1</th>\n",
              "      <td>31.051612</td>\n",
              "      <td>0.642816</td>\n",
              "      <td>-0.000115</td>\n",
              "      <td>4.488806</td>\n",
              "      <td>1.126259e+09</td>\n",
              "      <td>0.0</td>\n",
              "      <td>0.0</td>\n",
              "      <td>0.0</td>\n",
              "      <td>0.0</td>\n",
              "      <td>0.0</td>\n",
              "      <td>...</td>\n",
              "      <td>0.0</td>\n",
              "      <td>0.0</td>\n",
              "      <td>1.0</td>\n",
              "      <td>1.0</td>\n",
              "      <td>0.061894</td>\n",
              "      <td>269.944403</td>\n",
              "      <td>42.098702</td>\n",
              "      <td>27.061736</td>\n",
              "      <td>29.241730</td>\n",
              "      <td>69.160438</td>\n",
              "    </tr>\n",
              "    <tr>\n",
              "      <th>2</th>\n",
              "      <td>30.963228</td>\n",
              "      <td>0.629020</td>\n",
              "      <td>0.000146</td>\n",
              "      <td>4.489585</td>\n",
              "      <td>1.126259e+09</td>\n",
              "      <td>0.0</td>\n",
              "      <td>0.0</td>\n",
              "      <td>0.0</td>\n",
              "      <td>0.0</td>\n",
              "      <td>0.0</td>\n",
              "      <td>...</td>\n",
              "      <td>0.0</td>\n",
              "      <td>0.0</td>\n",
              "      <td>1.0</td>\n",
              "      <td>1.0</td>\n",
              "      <td>0.063136</td>\n",
              "      <td>275.281941</td>\n",
              "      <td>42.407599</td>\n",
              "      <td>26.675246</td>\n",
              "      <td>29.124416</td>\n",
              "      <td>69.082845</td>\n",
              "    </tr>\n",
              "    <tr>\n",
              "      <th>3</th>\n",
              "      <td>30.445764</td>\n",
              "      <td>0.593067</td>\n",
              "      <td>0.000236</td>\n",
              "      <td>4.497409</td>\n",
              "      <td>1.126259e+09</td>\n",
              "      <td>0.0</td>\n",
              "      <td>0.0</td>\n",
              "      <td>0.0</td>\n",
              "      <td>0.0</td>\n",
              "      <td>0.0</td>\n",
              "      <td>...</td>\n",
              "      <td>0.0</td>\n",
              "      <td>0.0</td>\n",
              "      <td>1.0</td>\n",
              "      <td>1.0</td>\n",
              "      <td>0.063897</td>\n",
              "      <td>278.548143</td>\n",
              "      <td>42.974573</td>\n",
              "      <td>25.486820</td>\n",
              "      <td>28.617203</td>\n",
              "      <td>68.461393</td>\n",
              "    </tr>\n",
              "    <tr>\n",
              "      <th>4</th>\n",
              "      <td>31.706811</td>\n",
              "      <td>0.860724</td>\n",
              "      <td>0.000072</td>\n",
              "      <td>4.456092</td>\n",
              "      <td>1.126259e+09</td>\n",
              "      <td>0.0</td>\n",
              "      <td>0.0</td>\n",
              "      <td>0.0</td>\n",
              "      <td>0.0</td>\n",
              "      <td>0.0</td>\n",
              "      <td>...</td>\n",
              "      <td>0.0</td>\n",
              "      <td>0.0</td>\n",
              "      <td>1.0</td>\n",
              "      <td>1.0</td>\n",
              "      <td>0.068084</td>\n",
              "      <td>296.502043</td>\n",
              "      <td>36.776052</td>\n",
              "      <td>31.654020</td>\n",
              "      <td>29.685679</td>\n",
              "      <td>68.430072</td>\n",
              "    </tr>\n",
              "    <tr>\n",
              "      <th>...</th>\n",
              "      <td>...</td>\n",
              "      <td>...</td>\n",
              "      <td>...</td>\n",
              "      <td>...</td>\n",
              "      <td>...</td>\n",
              "      <td>...</td>\n",
              "      <td>...</td>\n",
              "      <td>...</td>\n",
              "      <td>...</td>\n",
              "      <td>...</td>\n",
              "      <td>...</td>\n",
              "      <td>...</td>\n",
              "      <td>...</td>\n",
              "      <td>...</td>\n",
              "      <td>...</td>\n",
              "      <td>...</td>\n",
              "      <td>...</td>\n",
              "      <td>...</td>\n",
              "      <td>...</td>\n",
              "      <td>...</td>\n",
              "      <td>...</td>\n",
              "    </tr>\n",
              "    <tr>\n",
              "      <th>277</th>\n",
              "      <td>31.073186</td>\n",
              "      <td>0.922447</td>\n",
              "      <td>-0.000096</td>\n",
              "      <td>4.616890</td>\n",
              "      <td>1.126259e+09</td>\n",
              "      <td>0.0</td>\n",
              "      <td>0.0</td>\n",
              "      <td>0.0</td>\n",
              "      <td>0.0</td>\n",
              "      <td>0.0</td>\n",
              "      <td>...</td>\n",
              "      <td>0.0</td>\n",
              "      <td>0.0</td>\n",
              "      <td>1.0</td>\n",
              "      <td>1.0</td>\n",
              "      <td>0.060768</td>\n",
              "      <td>265.106321</td>\n",
              "      <td>35.040595</td>\n",
              "      <td>32.323078</td>\n",
              "      <td>29.293101</td>\n",
              "      <td>67.363673</td>\n",
              "    </tr>\n",
              "    <tr>\n",
              "      <th>278</th>\n",
              "      <td>31.034572</td>\n",
              "      <td>0.946716</td>\n",
              "      <td>-0.000052</td>\n",
              "      <td>1.611119</td>\n",
              "      <td>1.126259e+09</td>\n",
              "      <td>0.0</td>\n",
              "      <td>0.0</td>\n",
              "      <td>0.0</td>\n",
              "      <td>0.0</td>\n",
              "      <td>0.0</td>\n",
              "      <td>...</td>\n",
              "      <td>0.0</td>\n",
              "      <td>0.0</td>\n",
              "      <td>1.0</td>\n",
              "      <td>1.0</td>\n",
              "      <td>0.065020</td>\n",
              "      <td>283.366817</td>\n",
              "      <td>34.404601</td>\n",
              "      <td>32.571399</td>\n",
              "      <td>29.139891</td>\n",
              "      <td>66.975999</td>\n",
              "    </tr>\n",
              "    <tr>\n",
              "      <th>279</th>\n",
              "      <td>31.033430</td>\n",
              "      <td>0.982628</td>\n",
              "      <td>-0.000051</td>\n",
              "      <td>1.481088</td>\n",
              "      <td>1.126259e+09</td>\n",
              "      <td>0.0</td>\n",
              "      <td>0.0</td>\n",
              "      <td>0.0</td>\n",
              "      <td>0.0</td>\n",
              "      <td>0.0</td>\n",
              "      <td>...</td>\n",
              "      <td>0.0</td>\n",
              "      <td>0.0</td>\n",
              "      <td>1.0</td>\n",
              "      <td>1.0</td>\n",
              "      <td>0.064865</td>\n",
              "      <td>282.699078</td>\n",
              "      <td>33.771490</td>\n",
              "      <td>33.184803</td>\n",
              "      <td>29.143077</td>\n",
              "      <td>66.956293</td>\n",
              "    </tr>\n",
              "    <tr>\n",
              "      <th>280</th>\n",
              "      <td>31.043019</td>\n",
              "      <td>0.968314</td>\n",
              "      <td>-0.000034</td>\n",
              "      <td>4.764772</td>\n",
              "      <td>1.126259e+09</td>\n",
              "      <td>0.0</td>\n",
              "      <td>0.0</td>\n",
              "      <td>0.0</td>\n",
              "      <td>0.0</td>\n",
              "      <td>0.0</td>\n",
              "      <td>...</td>\n",
              "      <td>0.0</td>\n",
              "      <td>0.0</td>\n",
              "      <td>1.0</td>\n",
              "      <td>1.0</td>\n",
              "      <td>0.065688</td>\n",
              "      <td>286.231242</td>\n",
              "      <td>34.005023</td>\n",
              "      <td>32.927532</td>\n",
              "      <td>29.129556</td>\n",
              "      <td>66.932555</td>\n",
              "    </tr>\n",
              "    <tr>\n",
              "      <th>281</th>\n",
              "      <td>31.079322</td>\n",
              "      <td>0.952847</td>\n",
              "      <td>-0.000070</td>\n",
              "      <td>1.567103</td>\n",
              "      <td>1.126259e+09</td>\n",
              "      <td>0.0</td>\n",
              "      <td>0.0</td>\n",
              "      <td>0.0</td>\n",
              "      <td>0.0</td>\n",
              "      <td>0.0</td>\n",
              "      <td>...</td>\n",
              "      <td>0.0</td>\n",
              "      <td>0.0</td>\n",
              "      <td>1.0</td>\n",
              "      <td>1.0</td>\n",
              "      <td>0.064887</td>\n",
              "      <td>282.793343</td>\n",
              "      <td>34.346937</td>\n",
              "      <td>32.727365</td>\n",
              "      <td>29.185572</td>\n",
              "      <td>67.074302</td>\n",
              "    </tr>\n",
              "  </tbody>\n",
              "</table>\n",
              "<p>282 rows × 52 columns</p>\n",
              "</div>\n",
              "    <div class=\"colab-df-buttons\">\n",
              "\n",
              "  <div class=\"colab-df-container\">\n",
              "    <button class=\"colab-df-convert\" onclick=\"convertToInteractive('df-c96e943d-18c0-4828-b755-135fbd1125c9')\"\n",
              "            title=\"Convert this dataframe to an interactive table.\"\n",
              "            style=\"display:none;\">\n",
              "\n",
              "  <svg xmlns=\"http://www.w3.org/2000/svg\" height=\"24px\" viewBox=\"0 -960 960 960\">\n",
              "    <path d=\"M120-120v-720h720v720H120Zm60-500h600v-160H180v160Zm220 220h160v-160H400v160Zm0 220h160v-160H400v160ZM180-400h160v-160H180v160Zm440 0h160v-160H620v160ZM180-180h160v-160H180v160Zm440 0h160v-160H620v160Z\"/>\n",
              "  </svg>\n",
              "    </button>\n",
              "\n",
              "  <style>\n",
              "    .colab-df-container {\n",
              "      display:flex;\n",
              "      gap: 12px;\n",
              "    }\n",
              "\n",
              "    .colab-df-convert {\n",
              "      background-color: #E8F0FE;\n",
              "      border: none;\n",
              "      border-radius: 50%;\n",
              "      cursor: pointer;\n",
              "      display: none;\n",
              "      fill: #1967D2;\n",
              "      height: 32px;\n",
              "      padding: 0 0 0 0;\n",
              "      width: 32px;\n",
              "    }\n",
              "\n",
              "    .colab-df-convert:hover {\n",
              "      background-color: #E2EBFA;\n",
              "      box-shadow: 0px 1px 2px rgba(60, 64, 67, 0.3), 0px 1px 3px 1px rgba(60, 64, 67, 0.15);\n",
              "      fill: #174EA6;\n",
              "    }\n",
              "\n",
              "    .colab-df-buttons div {\n",
              "      margin-bottom: 4px;\n",
              "    }\n",
              "\n",
              "    [theme=dark] .colab-df-convert {\n",
              "      background-color: #3B4455;\n",
              "      fill: #D2E3FC;\n",
              "    }\n",
              "\n",
              "    [theme=dark] .colab-df-convert:hover {\n",
              "      background-color: #434B5C;\n",
              "      box-shadow: 0px 1px 3px 1px rgba(0, 0, 0, 0.15);\n",
              "      filter: drop-shadow(0px 1px 2px rgba(0, 0, 0, 0.3));\n",
              "      fill: #FFFFFF;\n",
              "    }\n",
              "  </style>\n",
              "\n",
              "    <script>\n",
              "      const buttonEl =\n",
              "        document.querySelector('#df-c96e943d-18c0-4828-b755-135fbd1125c9 button.colab-df-convert');\n",
              "      buttonEl.style.display =\n",
              "        google.colab.kernel.accessAllowed ? 'block' : 'none';\n",
              "\n",
              "      async function convertToInteractive(key) {\n",
              "        const element = document.querySelector('#df-c96e943d-18c0-4828-b755-135fbd1125c9');\n",
              "        const dataTable =\n",
              "          await google.colab.kernel.invokeFunction('convertToInteractive',\n",
              "                                                    [key], {});\n",
              "        if (!dataTable) return;\n",
              "\n",
              "        const docLinkHtml = 'Like what you see? Visit the ' +\n",
              "          '<a target=\"_blank\" href=https://colab.research.google.com/notebooks/data_table.ipynb>data table notebook</a>'\n",
              "          + ' to learn more about interactive tables.';\n",
              "        element.innerHTML = '';\n",
              "        dataTable['output_type'] = 'display_data';\n",
              "        await google.colab.output.renderOutput(dataTable, element);\n",
              "        const docLink = document.createElement('div');\n",
              "        docLink.innerHTML = docLinkHtml;\n",
              "        element.appendChild(docLink);\n",
              "      }\n",
              "    </script>\n",
              "  </div>\n",
              "\n",
              "\n",
              "<div id=\"df-9c9442b5-4a5b-4025-8d3e-89a5d2d48310\">\n",
              "  <button class=\"colab-df-quickchart\" onclick=\"quickchart('df-9c9442b5-4a5b-4025-8d3e-89a5d2d48310')\"\n",
              "            title=\"Suggest charts\"\n",
              "            style=\"display:none;\">\n",
              "\n",
              "<svg xmlns=\"http://www.w3.org/2000/svg\" height=\"24px\"viewBox=\"0 0 24 24\"\n",
              "     width=\"24px\">\n",
              "    <g>\n",
              "        <path d=\"M19 3H5c-1.1 0-2 .9-2 2v14c0 1.1.9 2 2 2h14c1.1 0 2-.9 2-2V5c0-1.1-.9-2-2-2zM9 17H7v-7h2v7zm4 0h-2V7h2v10zm4 0h-2v-4h2v4z\"/>\n",
              "    </g>\n",
              "</svg>\n",
              "  </button>\n",
              "\n",
              "<style>\n",
              "  .colab-df-quickchart {\n",
              "      --bg-color: #E8F0FE;\n",
              "      --fill-color: #1967D2;\n",
              "      --hover-bg-color: #E2EBFA;\n",
              "      --hover-fill-color: #174EA6;\n",
              "      --disabled-fill-color: #AAA;\n",
              "      --disabled-bg-color: #DDD;\n",
              "  }\n",
              "\n",
              "  [theme=dark] .colab-df-quickchart {\n",
              "      --bg-color: #3B4455;\n",
              "      --fill-color: #D2E3FC;\n",
              "      --hover-bg-color: #434B5C;\n",
              "      --hover-fill-color: #FFFFFF;\n",
              "      --disabled-bg-color: #3B4455;\n",
              "      --disabled-fill-color: #666;\n",
              "  }\n",
              "\n",
              "  .colab-df-quickchart {\n",
              "    background-color: var(--bg-color);\n",
              "    border: none;\n",
              "    border-radius: 50%;\n",
              "    cursor: pointer;\n",
              "    display: none;\n",
              "    fill: var(--fill-color);\n",
              "    height: 32px;\n",
              "    padding: 0;\n",
              "    width: 32px;\n",
              "  }\n",
              "\n",
              "  .colab-df-quickchart:hover {\n",
              "    background-color: var(--hover-bg-color);\n",
              "    box-shadow: 0 1px 2px rgba(60, 64, 67, 0.3), 0 1px 3px 1px rgba(60, 64, 67, 0.15);\n",
              "    fill: var(--button-hover-fill-color);\n",
              "  }\n",
              "\n",
              "  .colab-df-quickchart-complete:disabled,\n",
              "  .colab-df-quickchart-complete:disabled:hover {\n",
              "    background-color: var(--disabled-bg-color);\n",
              "    fill: var(--disabled-fill-color);\n",
              "    box-shadow: none;\n",
              "  }\n",
              "\n",
              "  .colab-df-spinner {\n",
              "    border: 2px solid var(--fill-color);\n",
              "    border-color: transparent;\n",
              "    border-bottom-color: var(--fill-color);\n",
              "    animation:\n",
              "      spin 1s steps(1) infinite;\n",
              "  }\n",
              "\n",
              "  @keyframes spin {\n",
              "    0% {\n",
              "      border-color: transparent;\n",
              "      border-bottom-color: var(--fill-color);\n",
              "      border-left-color: var(--fill-color);\n",
              "    }\n",
              "    20% {\n",
              "      border-color: transparent;\n",
              "      border-left-color: var(--fill-color);\n",
              "      border-top-color: var(--fill-color);\n",
              "    }\n",
              "    30% {\n",
              "      border-color: transparent;\n",
              "      border-left-color: var(--fill-color);\n",
              "      border-top-color: var(--fill-color);\n",
              "      border-right-color: var(--fill-color);\n",
              "    }\n",
              "    40% {\n",
              "      border-color: transparent;\n",
              "      border-right-color: var(--fill-color);\n",
              "      border-top-color: var(--fill-color);\n",
              "    }\n",
              "    60% {\n",
              "      border-color: transparent;\n",
              "      border-right-color: var(--fill-color);\n",
              "    }\n",
              "    80% {\n",
              "      border-color: transparent;\n",
              "      border-right-color: var(--fill-color);\n",
              "      border-bottom-color: var(--fill-color);\n",
              "    }\n",
              "    90% {\n",
              "      border-color: transparent;\n",
              "      border-bottom-color: var(--fill-color);\n",
              "    }\n",
              "  }\n",
              "</style>\n",
              "\n",
              "  <script>\n",
              "    async function quickchart(key) {\n",
              "      const quickchartButtonEl =\n",
              "        document.querySelector('#' + key + ' button');\n",
              "      quickchartButtonEl.disabled = true;  // To prevent multiple clicks.\n",
              "      quickchartButtonEl.classList.add('colab-df-spinner');\n",
              "      try {\n",
              "        const charts = await google.colab.kernel.invokeFunction(\n",
              "            'suggestCharts', [key], {});\n",
              "      } catch (error) {\n",
              "        console.error('Error during call to suggestCharts:', error);\n",
              "      }\n",
              "      quickchartButtonEl.classList.remove('colab-df-spinner');\n",
              "      quickchartButtonEl.classList.add('colab-df-quickchart-complete');\n",
              "    }\n",
              "    (() => {\n",
              "      let quickchartButtonEl =\n",
              "        document.querySelector('#df-9c9442b5-4a5b-4025-8d3e-89a5d2d48310 button');\n",
              "      quickchartButtonEl.style.display =\n",
              "        google.colab.kernel.accessAllowed ? 'block' : 'none';\n",
              "    })();\n",
              "  </script>\n",
              "</div>\n",
              "\n",
              "    </div>\n",
              "  </div>\n"
            ],
            "application/vnd.google.colaboratory.intrinsic+json": {
              "type": "dataframe"
            }
          },
          "metadata": {},
          "execution_count": 36
        }
      ],
      "source": [
        "result_short.posterior"
      ]
    },
    {
      "cell_type": "markdown",
      "metadata": {
        "id": "GfMcM7pdpfEM"
      },
      "source": [
        "We can pull out specific parameters that we are interested in"
      ]
    },
    {
      "cell_type": "code",
      "execution_count": 37,
      "metadata": {
        "tags": [],
        "id": "sl6amVpQpfEN",
        "outputId": "6d361c7d-d779-4f8a-9f39-e81a8e62952a",
        "colab": {
          "base_uri": "https://localhost:8080/",
          "height": 459
        }
      },
      "outputs": [
        {
          "output_type": "execute_result",
          "data": {
            "text/plain": [
              "0      30.523660\n",
              "1      31.051612\n",
              "2      30.963228\n",
              "3      30.445764\n",
              "4      31.706811\n",
              "         ...    \n",
              "277    31.073186\n",
              "278    31.034572\n",
              "279    31.033430\n",
              "280    31.043019\n",
              "281    31.079322\n",
              "Name: chirp_mass, Length: 282, dtype: float64"
            ],
            "text/html": [
              "<div>\n",
              "<style scoped>\n",
              "    .dataframe tbody tr th:only-of-type {\n",
              "        vertical-align: middle;\n",
              "    }\n",
              "\n",
              "    .dataframe tbody tr th {\n",
              "        vertical-align: top;\n",
              "    }\n",
              "\n",
              "    .dataframe thead th {\n",
              "        text-align: right;\n",
              "    }\n",
              "</style>\n",
              "<table border=\"1\" class=\"dataframe\">\n",
              "  <thead>\n",
              "    <tr style=\"text-align: right;\">\n",
              "      <th></th>\n",
              "      <th>chirp_mass</th>\n",
              "    </tr>\n",
              "  </thead>\n",
              "  <tbody>\n",
              "    <tr>\n",
              "      <th>0</th>\n",
              "      <td>30.523660</td>\n",
              "    </tr>\n",
              "    <tr>\n",
              "      <th>1</th>\n",
              "      <td>31.051612</td>\n",
              "    </tr>\n",
              "    <tr>\n",
              "      <th>2</th>\n",
              "      <td>30.963228</td>\n",
              "    </tr>\n",
              "    <tr>\n",
              "      <th>3</th>\n",
              "      <td>30.445764</td>\n",
              "    </tr>\n",
              "    <tr>\n",
              "      <th>4</th>\n",
              "      <td>31.706811</td>\n",
              "    </tr>\n",
              "    <tr>\n",
              "      <th>...</th>\n",
              "      <td>...</td>\n",
              "    </tr>\n",
              "    <tr>\n",
              "      <th>277</th>\n",
              "      <td>31.073186</td>\n",
              "    </tr>\n",
              "    <tr>\n",
              "      <th>278</th>\n",
              "      <td>31.034572</td>\n",
              "    </tr>\n",
              "    <tr>\n",
              "      <th>279</th>\n",
              "      <td>31.033430</td>\n",
              "    </tr>\n",
              "    <tr>\n",
              "      <th>280</th>\n",
              "      <td>31.043019</td>\n",
              "    </tr>\n",
              "    <tr>\n",
              "      <th>281</th>\n",
              "      <td>31.079322</td>\n",
              "    </tr>\n",
              "  </tbody>\n",
              "</table>\n",
              "<p>282 rows × 1 columns</p>\n",
              "</div><br><label><b>dtype:</b> float64</label>"
            ]
          },
          "metadata": {},
          "execution_count": 37
        }
      ],
      "source": [
        "result_short.posterior[\"chirp_mass\"]"
      ]
    },
    {
      "cell_type": "markdown",
      "metadata": {
        "id": "k5_krrSXpfEO"
      },
      "source": [
        "This returned another `pandas` object. If you just want to get the numbers as a numpy array run"
      ]
    },
    {
      "cell_type": "code",
      "execution_count": 38,
      "metadata": {
        "tags": [],
        "id": "jNf7-UeJpfEP"
      },
      "outputs": [],
      "source": [
        "Mc = result_short.posterior[\"chirp_mass\"].values"
      ]
    },
    {
      "cell_type": "markdown",
      "metadata": {
        "id": "y5gR1IGJpfEQ"
      },
      "source": [
        "We can then get some useful quantities such as the 90\\% credible interval"
      ]
    },
    {
      "cell_type": "code",
      "execution_count": 39,
      "metadata": {
        "tags": [],
        "id": "qVpr7GrYpfEQ",
        "outputId": "dc7cdb3a-93f0-4e31-ff74-cef70bcdcbc0",
        "colab": {
          "base_uri": "https://localhost:8080/"
        }
      },
      "outputs": [
        {
          "output_type": "stream",
          "name": "stdout",
          "text": [
            "Mc = 31.02521065970861 with a 90% C.I = 30.5824245269549 -> 31.412647222684914\n"
          ]
        }
      ],
      "source": [
        "lower_bound = np.quantile(Mc, 0.05)\n",
        "upper_bound = np.quantile(Mc, 0.95)\n",
        "median = np.quantile(Mc, 0.5)\n",
        "print(\"Mc = {} with a 90% C.I = {} -> {}\".format(median, lower_bound, upper_bound))"
      ]
    },
    {
      "cell_type": "markdown",
      "metadata": {
        "id": "d5bAjZMvpfEQ"
      },
      "source": [
        "We can then plot the chirp mass in a histogram adding a region to indicate the 90\\% C.I."
      ]
    },
    {
      "cell_type": "code",
      "execution_count": 40,
      "metadata": {
        "tags": [],
        "id": "Ut6zNBAVpfER",
        "outputId": "71ae2e76-44d8-4ae4-e257-fd4c3d859ad6",
        "colab": {
          "base_uri": "https://localhost:8080/",
          "height": 460
        }
      },
      "outputs": [
        {
          "output_type": "display_data",
          "data": {
            "text/plain": [
              "<Figure size 640x480 with 1 Axes>"
            ],
            "image/png": "[encoded data removed]"
          },
          "metadata": {}
        }
      ],
      "source": [
        "fig, ax = plt.subplots()\n",
        "ax.hist(result_short.posterior[\"chirp_mass\"], bins=20)\n",
        "ax.axvspan(lower_bound, upper_bound, color='C1', alpha=0.4)\n",
        "ax.axvline(median, color='C1')\n",
        "ax.set_xlabel(\"chirp mass\")\n",
        "plt.show()"
      ]
    },
    {
      "cell_type": "markdown",
      "metadata": {
        "id": "94XQeZZVpfET"
      },
      "source": [
        "The result object also has in-built methods to make nice plots such as corner plots. You can add the priors if you are only plotting parameters which you sampled in, e.g."
      ]
    },
    {
      "cell_type": "code",
      "execution_count": 41,
      "metadata": {
        "tags": [],
        "id": "BusPkxTvpfET",
        "outputId": "68c77ec6-4790-4e94-b510-339cb51c8fbc",
        "colab": {
          "base_uri": "https://localhost:8080/",
          "height": 983
        }
      },
      "outputs": [
        {
          "output_type": "execute_result",
          "data": {
            "text/plain": [
              "<Figure size 970x970 with 16 Axes>"
            ],
            "image/png": "[encoded data removed]"
          },
          "metadata": {},
          "execution_count": 41
        }
      ],
      "source": [
        "result_short.plot_corner(parameters=[\"chirp_mass\", \"mass_ratio\", \"geocent_time\", \"phase\"], prior=True)"
      ]
    },
    {
      "cell_type": "markdown",
      "metadata": {
        "id": "5zSFF5jcpfEV"
      },
      "source": [
        "You can also plot lines indicating specific points. Here, we add the values recorded on [GWOSC](https://www.gw-openscience.org/events/GW150914/). Notably, these fall outside the bulk of the posterior uncertainty here. This is because we limited our prior to a non-spinning analysis - if instead we ran the full analysis these agree nicely."
      ]
    },
    {
      "cell_type": "code",
      "execution_count": 42,
      "metadata": {
        "Collapsed": "false",
        "colab": {
          "base_uri": "https://localhost:8080/",
          "height": 558
        },
        "id": "SB4AqmTaygvU",
        "outputId": "6f7b2191-ec53-4088-d159-cabb6a70cdef",
        "tags": []
      },
      "outputs": [
        {
          "output_type": "execute_result",
          "data": {
            "text/plain": [
              "<Figure size 550x550 with 4 Axes>"
            ],
            "image/png": "[encoded data removed]"
          },
          "metadata": {},
          "execution_count": 42
        }
      ],
      "source": [
        "parameters = dict(mass_1=36.2, mass_2=29.1)\n",
        "result_short.plot_corner(parameters)"
      ]
    },
    {
      "cell_type": "markdown",
      "metadata": {
        "id": "7HBQrz8CpfEW"
      },
      "source": [
        "Earlier we discussed the \"correlation\" - in this plot we start to see the correlation between $m_1$ and $m_2$."
      ]
    },
    {
      "cell_type": "markdown",
      "metadata": {
        "id": "0ZZcH70KpfEX"
      },
      "source": [
        "### Meta data\n",
        "The result object also stores meta data, like the priors"
      ]
    },
    {
      "cell_type": "code",
      "execution_count": 43,
      "metadata": {
        "tags": [],
        "id": "X7b6ZmyXpfEX",
        "outputId": "dba5b411-dab4-4da0-d63f-fd317c4e508a",
        "colab": {
          "base_uri": "https://localhost:8080/"
        }
      },
      "outputs": [
        {
          "output_type": "execute_result",
          "data": {
            "text/plain": [
              "{'chirp_mass': Uniform(minimum=30.0, maximum=32.5, name='chirp_mass', latex_label='$\\\\mathcal{M}$', unit=None, boundary=None),\n",
              " 'mass_ratio': Uniform(minimum=0.5, maximum=1, name='mass_ratio', latex_label='$q$', unit=None, boundary=None),\n",
              " 'phase': Uniform(minimum=0, maximum=6.283185307179586, name='phase', latex_label='$\\\\phi$', unit=None, boundary=None),\n",
              " 'geocent_time': Uniform(minimum=1126259462.3000002, maximum=1126259462.5, name='geocent_time', latex_label='$t_c$', unit=None, boundary=None),\n",
              " 'a_1': DeltaFunction(peak=0.0, name=None, latex_label=None, unit=None),\n",
              " 'a_2': DeltaFunction(peak=0.0, name=None, latex_label=None, unit=None),\n",
              " 'tilt_1': DeltaFunction(peak=0.0, name=None, latex_label=None, unit=None),\n",
              " 'tilt_2': DeltaFunction(peak=0.0, name=None, latex_label=None, unit=None),\n",
              " 'phi_12': DeltaFunction(peak=0.0, name=None, latex_label=None, unit=None),\n",
              " 'phi_jl': DeltaFunction(peak=0.0, name=None, latex_label=None, unit=None),\n",
              " 'dec': DeltaFunction(peak=-1.2232, name=None, latex_label=None, unit=None),\n",
              " 'ra': DeltaFunction(peak=2.19432, name=None, latex_label=None, unit=None),\n",
              " 'theta_jn': DeltaFunction(peak=1.89694, name=None, latex_label=None, unit=None),\n",
              " 'psi': DeltaFunction(peak=0.532268, name=None, latex_label=None, unit=None),\n",
              " 'luminosity_distance': PowerLaw(alpha=2, minimum=50, maximum=2000, name='luminosity_distance', latex_label='$d_L$', unit='Mpc', boundary=None),\n",
              " 'time_jitter': Uniform(minimum=-0.000244140625, maximum=0.000244140625, name='time_jitter', latex_label='$t_j$', unit=None, boundary='periodic')}"
            ]
          },
          "metadata": {},
          "execution_count": 43
        }
      ],
      "source": [
        "result_short.priors"
      ]
    },
    {
      "cell_type": "markdown",
      "metadata": {
        "id": "DBCayNSvpfEZ"
      },
      "source": [
        "and details of the analysis itself:"
      ]
    },
    {
      "cell_type": "code",
      "execution_count": 44,
      "metadata": {
        "tags": [],
        "id": "Vjw49347pfEZ",
        "outputId": "ebed7160-6fe6-4789-e2c0-958aa2af0267",
        "colab": {
          "base_uri": "https://localhost:8080/"
        }
      },
      "outputs": [
        {
          "output_type": "execute_result",
          "data": {
            "text/plain": [
              "250"
            ]
          },
          "metadata": {},
          "execution_count": 44
        }
      ],
      "source": [
        "result_short.sampler_kwargs[\"nlive\"]"
      ]
    },
    {
      "cell_type": "markdown",
      "metadata": {
        "id": "WVkCo-fJpfEb"
      },
      "source": [
        "Finally, we can also get out the Bayes factor for the signal vs. Gaussian noise. This is a good indicator of how much the hypothesis that the analyzed segment contains a binary black hole signal is reliable compared to that assuming it just contains noise."
      ]
    },
    {
      "cell_type": "code",
      "execution_count": 45,
      "metadata": {
        "tags": [],
        "id": "60NbM6qJpfEd",
        "outputId": "bfc2702a-5ad3-42d9-c2a5-346d80d62000",
        "colab": {
          "base_uri": "https://localhost:8080/"
        }
      },
      "outputs": [
        {
          "output_type": "stream",
          "name": "stdout",
          "text": [
            "ln Bayes factor = 284.56446177232937 +/- 0.20667319445292948\n"
          ]
        }
      ],
      "source": [
        "print(\"ln Bayes factor = {} +/- {}\".format(\n",
        "    result_short.log_bayes_factor, result_short.log_evidence_err))"
      ]
    },
    {
      "cell_type": "markdown",
      "metadata": {
        "id": "EGY2FyHkpfEe"
      },
      "source": [
        "## Challenge questions\n",
        "First, let's take a closer look at the result obtained with the run above. What are the means of the chirp mass and mass ratio distributions? What are the medians of the distributions for the components masses? You can use `np.mean` and `np.median` to calculate these."
      ]
    },
    {
      "cell_type": "code",
      "execution_count": 51,
      "metadata": {
        "id": "F7JTGJmfpfEe",
        "outputId": "fd0830ef-0656-481b-bd4f-b77a640f11f9",
        "colab": {
          "base_uri": "https://localhost:8080/"
        }
      },
      "outputs": [
        {
          "output_type": "stream",
          "name": "stdout",
          "text": [
            "Mean chirp mass: 31.00, mean mass ratio: 0.86\n",
            "Median mass1: 35.78, median mass2: 31.51\n"
          ]
        }
      ],
      "source": [
        "Mc = result_short.posterior[\"chirp_mass\"].values\n",
        "q = result_short.posterior[\"mass_ratio\"].values\n",
        "m1 = result_short.posterior[\"mass_1_source\"].values\n",
        "m2 = result_short.posterior[\"mass_2_source\"].values\n",
        "\n",
        "print(f\"Mean chirp mass: {Mc.mean():.2f}, mean mass ratio: {q.mean():.2f}\")\n",
        "print(f\"Median mass1: {np.median(m1):.2f}, median mass2: {np.median(m2):.2f}\")"
      ]
    },
    {
      "cell_type": "markdown",
      "source": [
        "### Optional questions\n",
        "Now let's expand on this example a bit. Rerun the analysis above but change the prior on the distance from a delta function to `bilby.core.prior.PowerLaw(alpha=2., minimum=50., maximum=800., name='luminosity_distance')`. You should also replace `sample='unif'` with `sample=\"rwalk\", nact=1, walks=1` in your call to `bilby.run_sampler` above. This will take a bit longer than the original run, around ~20 minutes (something more if you are running on Colab or MyBinder). You also need to change the `label` in the call to `run_sampler` to avoid over-writing your results.\n",
        "\n",
        "What is the median reported value of the distance posterior? What is the new log Bayes factor for signal vs. Gaussian noise? Don't be alarmed if your results do not match the official LVC results, as these are not rigorous settings."
      ],
      "metadata": {
        "id": "pTqEicjQvTC_"
      }
    },
    {
      "cell_type": "markdown",
      "source": [
        "**luminosty distribution was already power law**  \n",
        "**there is not `sample='unif'` in the call to `bilby.run_sampler`**"
      ],
      "metadata": {
        "id": "9t7GElxowwSK"
      }
    },
    {
      "cell_type": "code",
      "source": [],
      "metadata": {
        "id": "B6XvvCfDx5rZ"
      },
      "execution_count": null,
      "outputs": []
    }
  ],
  "metadata": {
    "colab": {
      "name": "Tuto_3.2_Parameter_estimation_for_compact_object_mergers.ipynb",
      "provenance": []
    },
    "kernelspec": {
      "display_name": "Python 3 (ipykernel)",
      "language": "python",
      "name": "python3"
    },
    "language_info": {
      "codemirror_mode": {
        "name": "ipython",
        "version": 3
      },
      "file_extension": ".py",
      "mimetype": "text/x-python",
      "name": "python",
      "nbconvert_exporter": "python",
      "pygments_lexer": "ipython3",
      "version": "3.9.19"
    },
    "widgets": {
      "application/vnd.jupyter.widget-state+json": {
        "be431fcd14fe4fdcad1c7d93ea653ef7": {
          "model_module": "@jupyter-widgets/controls",
          "model_name": "HBoxModel",
          "model_module_version": "1.5.0",
          "state": {
            "_dom_classes": [],
            "_model_module": "@jupyter-widgets/controls",
            "_model_module_version": "1.5.0",
            "_model_name": "HBoxModel",
            "_view_count": null,
            "_view_module": "@jupyter-widgets/controls",
            "_view_module_version": "1.5.0",
            "_view_name": "HBoxView",
            "box_style": "",
            "children": [
              "IPY_MODEL_46c0192b42a241f19aa075e2b08f615f",
              "IPY_MODEL_f7e9115453164e3a86601cdbe06ec880",
              "IPY_MODEL_d8c147b6242d41ac9d3389826dbd0d93"
            ],
            "layout": "IPY_MODEL_53cb83f7c5774dbe9b7e10bdbd9caa0d"
          }
        },
        "46c0192b42a241f19aa075e2b08f615f": {
          "model_module": "@jupyter-widgets/controls",
          "model_name": "HTMLModel",
          "model_module_version": "1.5.0",
          "state": {
            "_dom_classes": [],
            "_model_module": "@jupyter-widgets/controls",
            "_model_module_version": "1.5.0",
            "_model_name": "HTMLModel",
            "_view_count": null,
            "_view_module": "@jupyter-widgets/controls",
            "_view_module_version": "1.5.0",
            "_view_name": "HTMLView",
            "description": "",
            "description_tooltip": null,
            "layout": "IPY_MODEL_6763b367f55041db9442ff2c3ebab30d",
            "placeholder": "​",
            "style": "IPY_MODEL_58acb8b2aa9f4172a7e35bf529d7303f",
            "value": "100%"
          }
        },
        "f7e9115453164e3a86601cdbe06ec880": {
          "model_module": "@jupyter-widgets/controls",
          "model_name": "FloatProgressModel",
          "model_module_version": "1.5.0",
          "state": {
            "_dom_classes": [],
            "_model_module": "@jupyter-widgets/controls",
            "_model_module_version": "1.5.0",
            "_model_name": "FloatProgressModel",
            "_view_count": null,
            "_view_module": "@jupyter-widgets/controls",
            "_view_module_version": "1.5.0",
            "_view_name": "ProgressView",
            "bar_style": "success",
            "description": "",
            "description_tooltip": null,
            "layout": "IPY_MODEL_49817245e8c34ddab98777693d116367",
            "max": 400,
            "min": 0,
            "orientation": "horizontal",
            "style": "IPY_MODEL_45c62a5105104b4d85136f558efe3b28",
            "value": 400
          }
        },
        "d8c147b6242d41ac9d3389826dbd0d93": {
          "model_module": "@jupyter-widgets/controls",
          "model_name": "HTMLModel",
          "model_module_version": "1.5.0",
          "state": {
            "_dom_classes": [],
            "_model_module": "@jupyter-widgets/controls",
            "_model_module_version": "1.5.0",
            "_model_name": "HTMLModel",
            "_view_count": null,
            "_view_module": "@jupyter-widgets/controls",
            "_view_module_version": "1.5.0",
            "_view_name": "HTMLView",
            "description": "",
            "description_tooltip": null,
            "layout": "IPY_MODEL_981043f605d94ee2be6932084c7d192d",
            "placeholder": "​",
            "style": "IPY_MODEL_8981e234969e4bdd98eb7f26a9f4a43f",
            "value": " 400/400 [01:47&lt;00:00,  4.01it/s]"
          }
        },
        "53cb83f7c5774dbe9b7e10bdbd9caa0d": {
          "model_module": "@jupyter-widgets/base",
          "model_name": "LayoutModel",
          "model_module_version": "1.2.0",
          "state": {
            "_model_module": "@jupyter-widgets/base",
            "_model_module_version": "1.2.0",
            "_model_name": "LayoutModel",
            "_view_count": null,
            "_view_module": "@jupyter-widgets/base",
            "_view_module_version": "1.2.0",
            "_view_name": "LayoutView",
            "align_content": null,
            "align_items": null,
            "align_self": null,
            "border": null,
            "bottom": null,
            "display": null,
            "flex": null,
            "flex_flow": null,
            "grid_area": null,
            "grid_auto_columns": null,
            "grid_auto_flow": null,
            "grid_auto_rows": null,
            "grid_column": null,
            "grid_gap": null,
            "grid_row": null,
            "grid_template_areas": null,
            "grid_template_columns": null,
            "grid_template_rows": null,
            "height": null,
            "justify_content": null,
            "justify_items": null,
            "left": null,
            "margin": null,
            "max_height": null,
            "max_width": null,
            "min_height": null,
            "min_width": null,
            "object_fit": null,
            "object_position": null,
            "order": null,
            "overflow": null,
            "overflow_x": null,
            "overflow_y": null,
            "padding": null,
            "right": null,
            "top": null,
            "visibility": null,
            "width": null
          }
        },
        "6763b367f55041db9442ff2c3ebab30d": {
          "model_module": "@jupyter-widgets/base",
          "model_name": "LayoutModel",
          "model_module_version": "1.2.0",
          "state": {
            "_model_module": "@jupyter-widgets/base",
            "_model_module_version": "1.2.0",
            "_model_name": "LayoutModel",
            "_view_count": null,
            "_view_module": "@jupyter-widgets/base",
            "_view_module_version": "1.2.0",
            "_view_name": "LayoutView",
            "align_content": null,
            "align_items": null,
            "align_self": null,
            "border": null,
            "bottom": null,
            "display": null,
            "flex": null,
            "flex_flow": null,
            "grid_area": null,
            "grid_auto_columns": null,
            "grid_auto_flow": null,
            "grid_auto_rows": null,
            "grid_column": null,
            "grid_gap": null,
            "grid_row": null,
            "grid_template_areas": null,
            "grid_template_columns": null,
            "grid_template_rows": null,
            "height": null,
            "justify_content": null,
            "justify_items": null,
            "left": null,
            "margin": null,
            "max_height": null,
            "max_width": null,
            "min_height": null,
            "min_width": null,
            "object_fit": null,
            "object_position": null,
            "order": null,
            "overflow": null,
            "overflow_x": null,
            "overflow_y": null,
            "padding": null,
            "right": null,
            "top": null,
            "visibility": null,
            "width": null
          }
        },
        "58acb8b2aa9f4172a7e35bf529d7303f": {
          "model_module": "@jupyter-widgets/controls",
          "model_name": "DescriptionStyleModel",
          "model_module_version": "1.5.0",
          "state": {
            "_model_module": "@jupyter-widgets/controls",
            "_model_module_version": "1.5.0",
            "_model_name": "DescriptionStyleModel",
            "_view_count": null,
            "_view_module": "@jupyter-widgets/base",
            "_view_module_version": "1.2.0",
            "_view_name": "StyleView",
            "description_width": ""
          }
        },
        "49817245e8c34ddab98777693d116367": {
          "model_module": "@jupyter-widgets/base",
          "model_name": "LayoutModel",
          "model_module_version": "1.2.0",
          "state": {
            "_model_module": "@jupyter-widgets/base",
            "_model_module_version": "1.2.0",
            "_model_name": "LayoutModel",
            "_view_count": null,
            "_view_module": "@jupyter-widgets/base",
            "_view_module_version": "1.2.0",
            "_view_name": "LayoutView",
            "align_content": null,
            "align_items": null,
            "align_self": null,
            "border": null,
            "bottom": null,
            "display": null,
            "flex": null,
            "flex_flow": null,
            "grid_area": null,
            "grid_auto_columns": null,
            "grid_auto_flow": null,
            "grid_auto_rows": null,
            "grid_column": null,
            "grid_gap": null,
            "grid_row": null,
            "grid_template_areas": null,
            "grid_template_columns": null,
            "grid_template_rows": null,
            "height": null,
            "justify_content": null,
            "justify_items": null,
            "left": null,
            "margin": null,
            "max_height": null,
            "max_width": null,
            "min_height": null,
            "min_width": null,
            "object_fit": null,
            "object_position": null,
            "order": null,
            "overflow": null,
            "overflow_x": null,
            "overflow_y": null,
            "padding": null,
            "right": null,
            "top": null,
            "visibility": null,
            "width": null
          }
        },
        "45c62a5105104b4d85136f558efe3b28": {
          "model_module": "@jupyter-widgets/controls",
          "model_name": "ProgressStyleModel",
          "model_module_version": "1.5.0",
          "state": {
            "_model_module": "@jupyter-widgets/controls",
            "_model_module_version": "1.5.0",
            "_model_name": "ProgressStyleModel",
            "_view_count": null,
            "_view_module": "@jupyter-widgets/base",
            "_view_module_version": "1.2.0",
            "_view_name": "StyleView",
            "bar_color": null,
            "description_width": ""
          }
        },
        "981043f605d94ee2be6932084c7d192d": {
          "model_module": "@jupyter-widgets/base",
          "model_name": "LayoutModel",
          "model_module_version": "1.2.0",
          "state": {
            "_model_module": "@jupyter-widgets/base",
            "_model_module_version": "1.2.0",
            "_model_name": "LayoutModel",
            "_view_count": null,
            "_view_module": "@jupyter-widgets/base",
            "_view_module_version": "1.2.0",
            "_view_name": "LayoutView",
            "align_content": null,
            "align_items": null,
            "align_self": null,
            "border": null,
            "bottom": null,
            "display": null,
            "flex": null,
            "flex_flow": null,
            "grid_area": null,
            "grid_auto_columns": null,
            "grid_auto_flow": null,
            "grid_auto_rows": null,
            "grid_column": null,
            "grid_gap": null,
            "grid_row": null,
            "grid_template_areas": null,
            "grid_template_columns": null,
            "grid_template_rows": null,
            "height": null,
            "justify_content": null,
            "justify_items": null,
            "left": null,
            "margin": null,
            "max_height": null,
            "max_width": null,
            "min_height": null,
            "min_width": null,
            "object_fit": null,
            "object_position": null,
            "order": null,
            "overflow": null,
            "overflow_x": null,
            "overflow_y": null,
            "padding": null,
            "right": null,
            "top": null,
            "visibility": null,
            "width": null
          }
        },
        "8981e234969e4bdd98eb7f26a9f4a43f": {
          "model_module": "@jupyter-widgets/controls",
          "model_name": "DescriptionStyleModel",
          "model_module_version": "1.5.0",
          "state": {
            "_model_module": "@jupyter-widgets/controls",
            "_model_module_version": "1.5.0",
            "_model_name": "DescriptionStyleModel",
            "_view_count": null,
            "_view_module": "@jupyter-widgets/base",
            "_view_module_version": "1.2.0",
            "_view_name": "StyleView",
            "description_width": ""
          }
        },
        "21652d35453147e8a7d93fae5771a255": {
          "model_module": "@jupyter-widgets/controls",
          "model_name": "HBoxModel",
          "model_module_version": "1.5.0",
          "state": {
            "_dom_classes": [],
            "_model_module": "@jupyter-widgets/controls",
            "_model_module_version": "1.5.0",
            "_model_name": "HBoxModel",
            "_view_count": null,
            "_view_module": "@jupyter-widgets/controls",
            "_view_module_version": "1.5.0",
            "_view_name": "HBoxView",
            "box_style": "",
            "children": [
              "IPY_MODEL_68a6e5664e7a455b8a967f0a61dce25a",
              "IPY_MODEL_f238f8e1a9e54bd5aa0dd66201e152d1",
              "IPY_MODEL_aa924f34ea2d4474ac6ea353e870b6d3"
            ],
            "layout": "IPY_MODEL_78030df010d04579a6fc9dcd4a5a218b"
          }
        },
        "68a6e5664e7a455b8a967f0a61dce25a": {
          "model_module": "@jupyter-widgets/controls",
          "model_name": "HTMLModel",
          "model_module_version": "1.5.0",
          "state": {
            "_dom_classes": [],
            "_model_module": "@jupyter-widgets/controls",
            "_model_module_version": "1.5.0",
            "_model_name": "HTMLModel",
            "_view_count": null,
            "_view_module": "@jupyter-widgets/controls",
            "_view_module_version": "1.5.0",
            "_view_name": "HTMLView",
            "description": "",
            "description_tooltip": null,
            "layout": "IPY_MODEL_5e7533c0f96a4735a6cf281f9de24c46",
            "placeholder": "​",
            "style": "IPY_MODEL_8a6dfd908d5b4bc2be1d562e5b0f709a",
            "value": ""
          }
        },
        "f238f8e1a9e54bd5aa0dd66201e152d1": {
          "model_module": "@jupyter-widgets/controls",
          "model_name": "FloatProgressModel",
          "model_module_version": "1.5.0",
          "state": {
            "_dom_classes": [],
            "_model_module": "@jupyter-widgets/controls",
            "_model_module_version": "1.5.0",
            "_model_name": "FloatProgressModel",
            "_view_count": null,
            "_view_module": "@jupyter-widgets/controls",
            "_view_module_version": "1.5.0",
            "_view_name": "ProgressView",
            "bar_style": "success",
            "description": "",
            "description_tooltip": null,
            "layout": "IPY_MODEL_22f6613677754107b5818d544e9cd67b",
            "max": 1,
            "min": 0,
            "orientation": "horizontal",
            "style": "IPY_MODEL_9115c44ee2b04393a08574898426167b",
            "value": 1
          }
        },
        "aa924f34ea2d4474ac6ea353e870b6d3": {
          "model_module": "@jupyter-widgets/controls",
          "model_name": "HTMLModel",
          "model_module_version": "1.5.0",
          "state": {
            "_dom_classes": [],
            "_model_module": "@jupyter-widgets/controls",
            "_model_module_version": "1.5.0",
            "_model_name": "HTMLModel",
            "_view_count": null,
            "_view_module": "@jupyter-widgets/controls",
            "_view_module_version": "1.5.0",
            "_view_name": "HTMLView",
            "description": "",
            "description_tooltip": null,
            "layout": "IPY_MODEL_487c5688a8a14212bf4dc9afe791d7f1",
            "placeholder": "​",
            "style": "IPY_MODEL_0969717707d84d8e8cee2a13c03b568f",
            "value": " 752/? [06:30&lt;00:00,  2.28s/it, bound:0 nc:  1 ncall:5.1e+03 eff:20.6% logz-ratio=284.56+/-0.13 dlogz:0.003&gt;1]"
          }
        },
        "78030df010d04579a6fc9dcd4a5a218b": {
          "model_module": "@jupyter-widgets/base",
          "model_name": "LayoutModel",
          "model_module_version": "1.2.0",
          "state": {
            "_model_module": "@jupyter-widgets/base",
            "_model_module_version": "1.2.0",
            "_model_name": "LayoutModel",
            "_view_count": null,
            "_view_module": "@jupyter-widgets/base",
            "_view_module_version": "1.2.0",
            "_view_name": "LayoutView",
            "align_content": null,
            "align_items": null,
            "align_self": null,
            "border": null,
            "bottom": null,
            "display": null,
            "flex": null,
            "flex_flow": null,
            "grid_area": null,
            "grid_auto_columns": null,
            "grid_auto_flow": null,
            "grid_auto_rows": null,
            "grid_column": null,
            "grid_gap": null,
            "grid_row": null,
            "grid_template_areas": null,
            "grid_template_columns": null,
            "grid_template_rows": null,
            "height": null,
            "justify_content": null,
            "justify_items": null,
            "left": null,
            "margin": null,
            "max_height": null,
            "max_width": null,
            "min_height": null,
            "min_width": null,
            "object_fit": null,
            "object_position": null,
            "order": null,
            "overflow": null,
            "overflow_x": null,
            "overflow_y": null,
            "padding": null,
            "right": null,
            "top": null,
            "visibility": null,
            "width": null
          }
        },
        "5e7533c0f96a4735a6cf281f9de24c46": {
          "model_module": "@jupyter-widgets/base",
          "model_name": "LayoutModel",
          "model_module_version": "1.2.0",
          "state": {
            "_model_module": "@jupyter-widgets/base",
            "_model_module_version": "1.2.0",
            "_model_name": "LayoutModel",
            "_view_count": null,
            "_view_module": "@jupyter-widgets/base",
            "_view_module_version": "1.2.0",
            "_view_name": "LayoutView",
            "align_content": null,
            "align_items": null,
            "align_self": null,
            "border": null,
            "bottom": null,
            "display": null,
            "flex": null,
            "flex_flow": null,
            "grid_area": null,
            "grid_auto_columns": null,
            "grid_auto_flow": null,
            "grid_auto_rows": null,
            "grid_column": null,
            "grid_gap": null,
            "grid_row": null,
            "grid_template_areas": null,
            "grid_template_columns": null,
            "grid_template_rows": null,
            "height": null,
            "justify_content": null,
            "justify_items": null,
            "left": null,
            "margin": null,
            "max_height": null,
            "max_width": null,
            "min_height": null,
            "min_width": null,
            "object_fit": null,
            "object_position": null,
            "order": null,
            "overflow": null,
            "overflow_x": null,
            "overflow_y": null,
            "padding": null,
            "right": null,
            "top": null,
            "visibility": null,
            "width": null
          }
        },
        "8a6dfd908d5b4bc2be1d562e5b0f709a": {
          "model_module": "@jupyter-widgets/controls",
          "model_name": "DescriptionStyleModel",
          "model_module_version": "1.5.0",
          "state": {
            "_model_module": "@jupyter-widgets/controls",
            "_model_module_version": "1.5.0",
            "_model_name": "DescriptionStyleModel",
            "_view_count": null,
            "_view_module": "@jupyter-widgets/base",
            "_view_module_version": "1.2.0",
            "_view_name": "StyleView",
            "description_width": ""
          }
        },
        "22f6613677754107b5818d544e9cd67b": {
          "model_module": "@jupyter-widgets/base",
          "model_name": "LayoutModel",
          "model_module_version": "1.2.0",
          "state": {
            "_model_module": "@jupyter-widgets/base",
            "_model_module_version": "1.2.0",
            "_model_name": "LayoutModel",
            "_view_count": null,
            "_view_module": "@jupyter-widgets/base",
            "_view_module_version": "1.2.0",
            "_view_name": "LayoutView",
            "align_content": null,
            "align_items": null,
            "align_self": null,
            "border": null,
            "bottom": null,
            "display": null,
            "flex": null,
            "flex_flow": null,
            "grid_area": null,
            "grid_auto_columns": null,
            "grid_auto_flow": null,
            "grid_auto_rows": null,
            "grid_column": null,
            "grid_gap": null,
            "grid_row": null,
            "grid_template_areas": null,
            "grid_template_columns": null,
            "grid_template_rows": null,
            "height": null,
            "justify_content": null,
            "justify_items": null,
            "left": null,
            "margin": null,
            "max_height": null,
            "max_width": null,
            "min_height": null,
            "min_width": null,
            "object_fit": null,
            "object_position": null,
            "order": null,
            "overflow": null,
            "overflow_x": null,
            "overflow_y": null,
            "padding": null,
            "right": null,
            "top": null,
            "visibility": null,
            "width": "20px"
          }
        },
        "9115c44ee2b04393a08574898426167b": {
          "model_module": "@jupyter-widgets/controls",
          "model_name": "ProgressStyleModel",
          "model_module_version": "1.5.0",
          "state": {
            "_model_module": "@jupyter-widgets/controls",
            "_model_module_version": "1.5.0",
            "_model_name": "ProgressStyleModel",
            "_view_count": null,
            "_view_module": "@jupyter-widgets/base",
            "_view_module_version": "1.2.0",
            "_view_name": "StyleView",
            "bar_color": null,
            "description_width": ""
          }
        },
        "487c5688a8a14212bf4dc9afe791d7f1": {
          "model_module": "@jupyter-widgets/base",
          "model_name": "LayoutModel",
          "model_module_version": "1.2.0",
          "state": {
            "_model_module": "@jupyter-widgets/base",
            "_model_module_version": "1.2.0",
            "_model_name": "LayoutModel",
            "_view_count": null,
            "_view_module": "@jupyter-widgets/base",
            "_view_module_version": "1.2.0",
            "_view_name": "LayoutView",
            "align_content": null,
            "align_items": null,
            "align_self": null,
            "border": null,
            "bottom": null,
            "display": null,
            "flex": null,
            "flex_flow": null,
            "grid_area": null,
            "grid_auto_columns": null,
            "grid_auto_flow": null,
            "grid_auto_rows": null,
            "grid_column": null,
            "grid_gap": null,
            "grid_row": null,
            "grid_template_areas": null,
            "grid_template_columns": null,
            "grid_template_rows": null,
            "height": null,
            "justify_content": null,
            "justify_items": null,
            "left": null,
            "margin": null,
            "max_height": null,
            "max_width": null,
            "min_height": null,
            "min_width": null,
            "object_fit": null,
            "object_position": null,
            "order": null,
            "overflow": null,
            "overflow_x": null,
            "overflow_y": null,
            "padding": null,
            "right": null,
            "top": null,
            "visibility": null,
            "width": null
          }
        },
        "0969717707d84d8e8cee2a13c03b568f": {
          "model_module": "@jupyter-widgets/controls",
          "model_name": "DescriptionStyleModel",
          "model_module_version": "1.5.0",
          "state": {
            "_model_module": "@jupyter-widgets/controls",
            "_model_module_version": "1.5.0",
            "_model_name": "DescriptionStyleModel",
            "_view_count": null,
            "_view_module": "@jupyter-widgets/base",
            "_view_module_version": "1.2.0",
            "_view_name": "StyleView",
            "description_width": ""
          }
        },
        "e5f699c7de3745769d8ffa9c88ef9ed4": {
          "model_module": "@jupyter-widgets/controls",
          "model_name": "HBoxModel",
          "model_module_version": "1.5.0",
          "state": {
            "_dom_classes": [],
            "_model_module": "@jupyter-widgets/controls",
            "_model_module_version": "1.5.0",
            "_model_name": "HBoxModel",
            "_view_count": null,
            "_view_module": "@jupyter-widgets/controls",
            "_view_module_version": "1.5.0",
            "_view_name": "HBoxView",
            "box_style": "",
            "children": [
              "IPY_MODEL_ec88401398e241abbce8181d22853ef5",
              "IPY_MODEL_248269d7c3684903bf4ed350064cbcd1",
              "IPY_MODEL_ec2a2ea0cd3147e2af701ed95eac2003"
            ],
            "layout": "IPY_MODEL_0485d6db4dca4251a57cae67fd83dc06"
          }
        },
        "ec88401398e241abbce8181d22853ef5": {
          "model_module": "@jupyter-widgets/controls",
          "model_name": "HTMLModel",
          "model_module_version": "1.5.0",
          "state": {
            "_dom_classes": [],
            "_model_module": "@jupyter-widgets/controls",
            "_model_module_version": "1.5.0",
            "_model_name": "HTMLModel",
            "_view_count": null,
            "_view_module": "@jupyter-widgets/controls",
            "_view_module_version": "1.5.0",
            "_view_name": "HTMLView",
            "description": "",
            "description_tooltip": null,
            "layout": "IPY_MODEL_b083b2e004dd4b969c2fb843ee286475",
            "placeholder": "​",
            "style": "IPY_MODEL_68aa1abbcc624f7a9318b84f7b2f0428",
            "value": "100%"
          }
        },
        "248269d7c3684903bf4ed350064cbcd1": {
          "model_module": "@jupyter-widgets/controls",
          "model_name": "FloatProgressModel",
          "model_module_version": "1.5.0",
          "state": {
            "_dom_classes": [],
            "_model_module": "@jupyter-widgets/controls",
            "_model_module_version": "1.5.0",
            "_model_name": "FloatProgressModel",
            "_view_count": null,
            "_view_module": "@jupyter-widgets/controls",
            "_view_module_version": "1.5.0",
            "_view_name": "ProgressView",
            "bar_style": "success",
            "description": "",
            "description_tooltip": null,
            "layout": "IPY_MODEL_e4db09356487404ca2eabdcd796c928b",
            "max": 282,
            "min": 0,
            "orientation": "horizontal",
            "style": "IPY_MODEL_17b01a0d842c4b1ca23c923a6b19ebe9",
            "value": 282
          }
        },
        "ec2a2ea0cd3147e2af701ed95eac2003": {
          "model_module": "@jupyter-widgets/controls",
          "model_name": "HTMLModel",
          "model_module_version": "1.5.0",
          "state": {
            "_dom_classes": [],
            "_model_module": "@jupyter-widgets/controls",
            "_model_module_version": "1.5.0",
            "_model_name": "HTMLModel",
            "_view_count": null,
            "_view_module": "@jupyter-widgets/controls",
            "_view_module_version": "1.5.0",
            "_view_name": "HTMLView",
            "description": "",
            "description_tooltip": null,
            "layout": "IPY_MODEL_6a8b9eed074d4befb5f149dafcadaf29",
            "placeholder": "​",
            "style": "IPY_MODEL_385180985228442ebfbed9dbdb17fefd",
            "value": " 282/282 [00:23&lt;00:00, 11.49it/s]"
          }
        },
        "0485d6db4dca4251a57cae67fd83dc06": {
          "model_module": "@jupyter-widgets/base",
          "model_name": "LayoutModel",
          "model_module_version": "1.2.0",
          "state": {
            "_model_module": "@jupyter-widgets/base",
            "_model_module_version": "1.2.0",
            "_model_name": "LayoutModel",
            "_view_count": null,
            "_view_module": "@jupyter-widgets/base",
            "_view_module_version": "1.2.0",
            "_view_name": "LayoutView",
            "align_content": null,
            "align_items": null,
            "align_self": null,
            "border": null,
            "bottom": null,
            "display": null,
            "flex": null,
            "flex_flow": null,
            "grid_area": null,
            "grid_auto_columns": null,
            "grid_auto_flow": null,
            "grid_auto_rows": null,
            "grid_column": null,
            "grid_gap": null,
            "grid_row": null,
            "grid_template_areas": null,
            "grid_template_columns": null,
            "grid_template_rows": null,
            "height": null,
            "justify_content": null,
            "justify_items": null,
            "left": null,
            "margin": null,
            "max_height": null,
            "max_width": null,
            "min_height": null,
            "min_width": null,
            "object_fit": null,
            "object_position": null,
            "order": null,
            "overflow": null,
            "overflow_x": null,
            "overflow_y": null,
            "padding": null,
            "right": null,
            "top": null,
            "visibility": null,
            "width": null
          }
        },
        "b083b2e004dd4b969c2fb843ee286475": {
          "model_module": "@jupyter-widgets/base",
          "model_name": "LayoutModel",
          "model_module_version": "1.2.0",
          "state": {
            "_model_module": "@jupyter-widgets/base",
            "_model_module_version": "1.2.0",
            "_model_name": "LayoutModel",
            "_view_count": null,
            "_view_module": "@jupyter-widgets/base",
            "_view_module_version": "1.2.0",
            "_view_name": "LayoutView",
            "align_content": null,
            "align_items": null,
            "align_self": null,
            "border": null,
            "bottom": null,
            "display": null,
            "flex": null,
            "flex_flow": null,
            "grid_area": null,
            "grid_auto_columns": null,
            "grid_auto_flow": null,
            "grid_auto_rows": null,
            "grid_column": null,
            "grid_gap": null,
            "grid_row": null,
            "grid_template_areas": null,
            "grid_template_columns": null,
            "grid_template_rows": null,
            "height": null,
            "justify_content": null,
            "justify_items": null,
            "left": null,
            "margin": null,
            "max_height": null,
            "max_width": null,
            "min_height": null,
            "min_width": null,
            "object_fit": null,
            "object_position": null,
            "order": null,
            "overflow": null,
            "overflow_x": null,
            "overflow_y": null,
            "padding": null,
            "right": null,
            "top": null,
            "visibility": null,
            "width": null
          }
        },
        "68aa1abbcc624f7a9318b84f7b2f0428": {
          "model_module": "@jupyter-widgets/controls",
          "model_name": "DescriptionStyleModel",
          "model_module_version": "1.5.0",
          "state": {
            "_model_module": "@jupyter-widgets/controls",
            "_model_module_version": "1.5.0",
            "_model_name": "DescriptionStyleModel",
            "_view_count": null,
            "_view_module": "@jupyter-widgets/base",
            "_view_module_version": "1.2.0",
            "_view_name": "StyleView",
            "description_width": ""
          }
        },
        "e4db09356487404ca2eabdcd796c928b": {
          "model_module": "@jupyter-widgets/base",
          "model_name": "LayoutModel",
          "model_module_version": "1.2.0",
          "state": {
            "_model_module": "@jupyter-widgets/base",
            "_model_module_version": "1.2.0",
            "_model_name": "LayoutModel",
            "_view_count": null,
            "_view_module": "@jupyter-widgets/base",
            "_view_module_version": "1.2.0",
            "_view_name": "LayoutView",
            "align_content": null,
            "align_items": null,
            "align_self": null,
            "border": null,
            "bottom": null,
            "display": null,
            "flex": null,
            "flex_flow": null,
            "grid_area": null,
            "grid_auto_columns": null,
            "grid_auto_flow": null,
            "grid_auto_rows": null,
            "grid_column": null,
            "grid_gap": null,
            "grid_row": null,
            "grid_template_areas": null,
            "grid_template_columns": null,
            "grid_template_rows": null,
            "height": null,
            "justify_content": null,
            "justify_items": null,
            "left": null,
            "margin": null,
            "max_height": null,
            "max_width": null,
            "min_height": null,
            "min_width": null,
            "object_fit": null,
            "object_position": null,
            "order": null,
            "overflow": null,
            "overflow_x": null,
            "overflow_y": null,
            "padding": null,
            "right": null,
            "top": null,
            "visibility": null,
            "width": null
          }
        },
        "17b01a0d842c4b1ca23c923a6b19ebe9": {
          "model_module": "@jupyter-widgets/controls",
          "model_name": "ProgressStyleModel",
          "model_module_version": "1.5.0",
          "state": {
            "_model_module": "@jupyter-widgets/controls",
            "_model_module_version": "1.5.0",
            "_model_name": "ProgressStyleModel",
            "_view_count": null,
            "_view_module": "@jupyter-widgets/base",
            "_view_module_version": "1.2.0",
            "_view_name": "StyleView",
            "bar_color": null,
            "description_width": ""
          }
        },
        "6a8b9eed074d4befb5f149dafcadaf29": {
          "model_module": "@jupyter-widgets/base",
          "model_name": "LayoutModel",
          "model_module_version": "1.2.0",
          "state": {
            "_model_module": "@jupyter-widgets/base",
            "_model_module_version": "1.2.0",
            "_model_name": "LayoutModel",
            "_view_count": null,
            "_view_module": "@jupyter-widgets/base",
            "_view_module_version": "1.2.0",
            "_view_name": "LayoutView",
            "align_content": null,
            "align_items": null,
            "align_self": null,
            "border": null,
            "bottom": null,
            "display": null,
            "flex": null,
            "flex_flow": null,
            "grid_area": null,
            "grid_auto_columns": null,
            "grid_auto_flow": null,
            "grid_auto_rows": null,
            "grid_column": null,
            "grid_gap": null,
            "grid_row": null,
            "grid_template_areas": null,
            "grid_template_columns": null,
            "grid_template_rows": null,
            "height": null,
            "justify_content": null,
            "justify_items": null,
            "left": null,
            "margin": null,
            "max_height": null,
            "max_width": null,
            "min_height": null,
            "min_width": null,
            "object_fit": null,
            "object_position": null,
            "order": null,
            "overflow": null,
            "overflow_x": null,
            "overflow_y": null,
            "padding": null,
            "right": null,
            "top": null,
            "visibility": null,
            "width": null
          }
        },
        "385180985228442ebfbed9dbdb17fefd": {
          "model_module": "@jupyter-widgets/controls",
          "model_name": "DescriptionStyleModel",
          "model_module_version": "1.5.0",
          "state": {
            "_model_module": "@jupyter-widgets/controls",
            "_model_module_version": "1.5.0",
            "_model_name": "DescriptionStyleModel",
            "_view_count": null,
            "_view_module": "@jupyter-widgets/base",
            "_view_module_version": "1.2.0",
            "_view_name": "StyleView",
            "description_width": ""
          }
        },
        "8a3d7b815d444c08ad8674d8d352e7d3": {
          "model_module": "@jupyter-widgets/controls",
          "model_name": "HBoxModel",
          "model_module_version": "1.5.0",
          "state": {
            "_dom_classes": [],
            "_model_module": "@jupyter-widgets/controls",
            "_model_module_version": "1.5.0",
            "_model_name": "HBoxModel",
            "_view_count": null,
            "_view_module": "@jupyter-widgets/controls",
            "_view_module_version": "1.5.0",
            "_view_name": "HBoxView",
            "box_style": "",
            "children": [
              "IPY_MODEL_c06634813d944d7dba9171378d956311",
              "IPY_MODEL_a70bfa9128c24d818eac70b651276368",
              "IPY_MODEL_3ce9684be334440b96e04f52720cee76"
            ],
            "layout": "IPY_MODEL_2bade6dc729d49418d21a05ebc3a64e8"
          }
        },
        "c06634813d944d7dba9171378d956311": {
          "model_module": "@jupyter-widgets/controls",
          "model_name": "HTMLModel",
          "model_module_version": "1.5.0",
          "state": {
            "_dom_classes": [],
            "_model_module": "@jupyter-widgets/controls",
            "_model_module_version": "1.5.0",
            "_model_name": "HTMLModel",
            "_view_count": null,
            "_view_module": "@jupyter-widgets/controls",
            "_view_module_version": "1.5.0",
            "_view_name": "HTMLView",
            "description": "",
            "description_tooltip": null,
            "layout": "IPY_MODEL_d09858c9f76d4b85be6a6975282f4281",
            "placeholder": "​",
            "style": "IPY_MODEL_a684514985f14271b6846624bc24738b",
            "value": "100%"
          }
        },
        "a70bfa9128c24d818eac70b651276368": {
          "model_module": "@jupyter-widgets/controls",
          "model_name": "FloatProgressModel",
          "model_module_version": "1.5.0",
          "state": {
            "_dom_classes": [],
            "_model_module": "@jupyter-widgets/controls",
            "_model_module_version": "1.5.0",
            "_model_name": "FloatProgressModel",
            "_view_count": null,
            "_view_module": "@jupyter-widgets/controls",
            "_view_module_version": "1.5.0",
            "_view_name": "ProgressView",
            "bar_style": "success",
            "description": "",
            "description_tooltip": null,
            "layout": "IPY_MODEL_a05e4656d27a4eeab5e1831764b926a5",
            "max": 282,
            "min": 0,
            "orientation": "horizontal",
            "style": "IPY_MODEL_4294332c94214effb35892d2a2982280",
            "value": 282
          }
        },
        "3ce9684be334440b96e04f52720cee76": {
          "model_module": "@jupyter-widgets/controls",
          "model_name": "HTMLModel",
          "model_module_version": "1.5.0",
          "state": {
            "_dom_classes": [],
            "_model_module": "@jupyter-widgets/controls",
            "_model_module_version": "1.5.0",
            "_model_name": "HTMLModel",
            "_view_count": null,
            "_view_module": "@jupyter-widgets/controls",
            "_view_module_version": "1.5.0",
            "_view_name": "HTMLView",
            "description": "",
            "description_tooltip": null,
            "layout": "IPY_MODEL_ae39a48d1c7a450587c07389dd25f949",
            "placeholder": "​",
            "style": "IPY_MODEL_53241586aed54bc4bfd7a44714d1d3b5",
            "value": " 282/282 [00:32&lt;00:00,  9.18it/s]"
          }
        },
        "2bade6dc729d49418d21a05ebc3a64e8": {
          "model_module": "@jupyter-widgets/base",
          "model_name": "LayoutModel",
          "model_module_version": "1.2.0",
          "state": {
            "_model_module": "@jupyter-widgets/base",
            "_model_module_version": "1.2.0",
            "_model_name": "LayoutModel",
            "_view_count": null,
            "_view_module": "@jupyter-widgets/base",
            "_view_module_version": "1.2.0",
            "_view_name": "LayoutView",
            "align_content": null,
            "align_items": null,
            "align_self": null,
            "border": null,
            "bottom": null,
            "display": null,
            "flex": null,
            "flex_flow": null,
            "grid_area": null,
            "grid_auto_columns": null,
            "grid_auto_flow": null,
            "grid_auto_rows": null,
            "grid_column": null,
            "grid_gap": null,
            "grid_row": null,
            "grid_template_areas": null,
            "grid_template_columns": null,
            "grid_template_rows": null,
            "height": null,
            "justify_content": null,
            "justify_items": null,
            "left": null,
            "margin": null,
            "max_height": null,
            "max_width": null,
            "min_height": null,
            "min_width": null,
            "object_fit": null,
            "object_position": null,
            "order": null,
            "overflow": null,
            "overflow_x": null,
            "overflow_y": null,
            "padding": null,
            "right": null,
            "top": null,
            "visibility": null,
            "width": null
          }
        },
        "d09858c9f76d4b85be6a6975282f4281": {
          "model_module": "@jupyter-widgets/base",
          "model_name": "LayoutModel",
          "model_module_version": "1.2.0",
          "state": {
            "_model_module": "@jupyter-widgets/base",
            "_model_module_version": "1.2.0",
            "_model_name": "LayoutModel",
            "_view_count": null,
            "_view_module": "@jupyter-widgets/base",
            "_view_module_version": "1.2.0",
            "_view_name": "LayoutView",
            "align_content": null,
            "align_items": null,
            "align_self": null,
            "border": null,
            "bottom": null,
            "display": null,
            "flex": null,
            "flex_flow": null,
            "grid_area": null,
            "grid_auto_columns": null,
            "grid_auto_flow": null,
            "grid_auto_rows": null,
            "grid_column": null,
            "grid_gap": null,
            "grid_row": null,
            "grid_template_areas": null,
            "grid_template_columns": null,
            "grid_template_rows": null,
            "height": null,
            "justify_content": null,
            "justify_items": null,
            "left": null,
            "margin": null,
            "max_height": null,
            "max_width": null,
            "min_height": null,
            "min_width": null,
            "object_fit": null,
            "object_position": null,
            "order": null,
            "overflow": null,
            "overflow_x": null,
            "overflow_y": null,
            "padding": null,
            "right": null,
            "top": null,
            "visibility": null,
            "width": null
          }
        },
        "a684514985f14271b6846624bc24738b": {
          "model_module": "@jupyter-widgets/controls",
          "model_name": "DescriptionStyleModel",
          "model_module_version": "1.5.0",
          "state": {
            "_model_module": "@jupyter-widgets/controls",
            "_model_module_version": "1.5.0",
            "_model_name": "DescriptionStyleModel",
            "_view_count": null,
            "_view_module": "@jupyter-widgets/base",
            "_view_module_version": "1.2.0",
            "_view_name": "StyleView",
            "description_width": ""
          }
        },
        "a05e4656d27a4eeab5e1831764b926a5": {
          "model_module": "@jupyter-widgets/base",
          "model_name": "LayoutModel",
          "model_module_version": "1.2.0",
          "state": {
            "_model_module": "@jupyter-widgets/base",
            "_model_module_version": "1.2.0",
            "_model_name": "LayoutModel",
            "_view_count": null,
            "_view_module": "@jupyter-widgets/base",
            "_view_module_version": "1.2.0",
            "_view_name": "LayoutView",
            "align_content": null,
            "align_items": null,
            "align_self": null,
            "border": null,
            "bottom": null,
            "display": null,
            "flex": null,
            "flex_flow": null,
            "grid_area": null,
            "grid_auto_columns": null,
            "grid_auto_flow": null,
            "grid_auto_rows": null,
            "grid_column": null,
            "grid_gap": null,
            "grid_row": null,
            "grid_template_areas": null,
            "grid_template_columns": null,
            "grid_template_rows": null,
            "height": null,
            "justify_content": null,
            "justify_items": null,
            "left": null,
            "margin": null,
            "max_height": null,
            "max_width": null,
            "min_height": null,
            "min_width": null,
            "object_fit": null,
            "object_position": null,
            "order": null,
            "overflow": null,
            "overflow_x": null,
            "overflow_y": null,
            "padding": null,
            "right": null,
            "top": null,
            "visibility": null,
            "width": null
          }
        },
        "4294332c94214effb35892d2a2982280": {
          "model_module": "@jupyter-widgets/controls",
          "model_name": "ProgressStyleModel",
          "model_module_version": "1.5.0",
          "state": {
            "_model_module": "@jupyter-widgets/controls",
            "_model_module_version": "1.5.0",
            "_model_name": "ProgressStyleModel",
            "_view_count": null,
            "_view_module": "@jupyter-widgets/base",
            "_view_module_version": "1.2.0",
            "_view_name": "StyleView",
            "bar_color": null,
            "description_width": ""
          }
        },
        "ae39a48d1c7a450587c07389dd25f949": {
          "model_module": "@jupyter-widgets/base",
          "model_name": "LayoutModel",
          "model_module_version": "1.2.0",
          "state": {
            "_model_module": "@jupyter-widgets/base",
            "_model_module_version": "1.2.0",
            "_model_name": "LayoutModel",
            "_view_count": null,
            "_view_module": "@jupyter-widgets/base",
            "_view_module_version": "1.2.0",
            "_view_name": "LayoutView",
            "align_content": null,
            "align_items": null,
            "align_self": null,
            "border": null,
            "bottom": null,
            "display": null,
            "flex": null,
            "flex_flow": null,
            "grid_area": null,
            "grid_auto_columns": null,
            "grid_auto_flow": null,
            "grid_auto_rows": null,
            "grid_column": null,
            "grid_gap": null,
            "grid_row": null,
            "grid_template_areas": null,
            "grid_template_columns": null,
            "grid_template_rows": null,
            "height": null,
            "justify_content": null,
            "justify_items": null,
            "left": null,
            "margin": null,
            "max_height": null,
            "max_width": null,
            "min_height": null,
            "min_width": null,
            "object_fit": null,
            "object_position": null,
            "order": null,
            "overflow": null,
            "overflow_x": null,
            "overflow_y": null,
            "padding": null,
            "right": null,
            "top": null,
            "visibility": null,
            "width": null
          }
        },
        "53241586aed54bc4bfd7a44714d1d3b5": {
          "model_module": "@jupyter-widgets/controls",
          "model_name": "DescriptionStyleModel",
          "model_module_version": "1.5.0",
          "state": {
            "_model_module": "@jupyter-widgets/controls",
            "_model_module_version": "1.5.0",
            "_model_name": "DescriptionStyleModel",
            "_view_count": null,
            "_view_module": "@jupyter-widgets/base",
            "_view_module_version": "1.2.0",
            "_view_name": "StyleView",
            "description_width": ""
          }
        },
        "d0e78443c5e9437e8804127ee8d96256": {
          "model_module": "@jupyter-widgets/controls",
          "model_name": "HBoxModel",
          "model_module_version": "1.5.0",
          "state": {
            "_dom_classes": [],
            "_model_module": "@jupyter-widgets/controls",
            "_model_module_version": "1.5.0",
            "_model_name": "HBoxModel",
            "_view_count": null,
            "_view_module": "@jupyter-widgets/controls",
            "_view_module_version": "1.5.0",
            "_view_name": "HBoxView",
            "box_style": "",
            "children": [
              "IPY_MODEL_e1d119e723dc4c19a99aab4df9650403",
              "IPY_MODEL_639ddaef878c4e449c088409924cb3bb",
              "IPY_MODEL_c748310873144bfb87f0f04ad43435eb"
            ],
            "layout": "IPY_MODEL_da68e0adc1dc44a7aa340cab440e1cac"
          }
        },
        "e1d119e723dc4c19a99aab4df9650403": {
          "model_module": "@jupyter-widgets/controls",
          "model_name": "HTMLModel",
          "model_module_version": "1.5.0",
          "state": {
            "_dom_classes": [],
            "_model_module": "@jupyter-widgets/controls",
            "_model_module_version": "1.5.0",
            "_model_name": "HTMLModel",
            "_view_count": null,
            "_view_module": "@jupyter-widgets/controls",
            "_view_module_version": "1.5.0",
            "_view_name": "HTMLView",
            "description": "",
            "description_tooltip": null,
            "layout": "IPY_MODEL_e328a812c7d34cc6932ef087b97b496b",
            "placeholder": "​",
            "style": "IPY_MODEL_56fdafd920e5468980113a1f89c10879",
            "value": "100%"
          }
        },
        "639ddaef878c4e449c088409924cb3bb": {
          "model_module": "@jupyter-widgets/controls",
          "model_name": "FloatProgressModel",
          "model_module_version": "1.5.0",
          "state": {
            "_dom_classes": [],
            "_model_module": "@jupyter-widgets/controls",
            "_model_module_version": "1.5.0",
            "_model_name": "FloatProgressModel",
            "_view_count": null,
            "_view_module": "@jupyter-widgets/controls",
            "_view_module_version": "1.5.0",
            "_view_name": "ProgressView",
            "bar_style": "success",
            "description": "",
            "description_tooltip": null,
            "layout": "IPY_MODEL_e93847fdb31b40308b94defaa32e3e93",
            "max": 282,
            "min": 0,
            "orientation": "horizontal",
            "style": "IPY_MODEL_93e215f588694410ae02a1bbd798e547",
            "value": 282
          }
        },
        "c748310873144bfb87f0f04ad43435eb": {
          "model_module": "@jupyter-widgets/controls",
          "model_name": "HTMLModel",
          "model_module_version": "1.5.0",
          "state": {
            "_dom_classes": [],
            "_model_module": "@jupyter-widgets/controls",
            "_model_module_version": "1.5.0",
            "_model_name": "HTMLModel",
            "_view_count": null,
            "_view_module": "@jupyter-widgets/controls",
            "_view_module_version": "1.5.0",
            "_view_name": "HTMLView",
            "description": "",
            "description_tooltip": null,
            "layout": "IPY_MODEL_5d989097e88c43fd9757f2e62e026eb5",
            "placeholder": "​",
            "style": "IPY_MODEL_42c56748edb8499e80d6fb0bf6a14c60",
            "value": " 282/282 [00:00&lt;00:00, 3228.47it/s]"
          }
        },
        "da68e0adc1dc44a7aa340cab440e1cac": {
          "model_module": "@jupyter-widgets/base",
          "model_name": "LayoutModel",
          "model_module_version": "1.2.0",
          "state": {
            "_model_module": "@jupyter-widgets/base",
            "_model_module_version": "1.2.0",
            "_model_name": "LayoutModel",
            "_view_count": null,
            "_view_module": "@jupyter-widgets/base",
            "_view_module_version": "1.2.0",
            "_view_name": "LayoutView",
            "align_content": null,
            "align_items": null,
            "align_self": null,
            "border": null,
            "bottom": null,
            "display": null,
            "flex": null,
            "flex_flow": null,
            "grid_area": null,
            "grid_auto_columns": null,
            "grid_auto_flow": null,
            "grid_auto_rows": null,
            "grid_column": null,
            "grid_gap": null,
            "grid_row": null,
            "grid_template_areas": null,
            "grid_template_columns": null,
            "grid_template_rows": null,
            "height": null,
            "justify_content": null,
            "justify_items": null,
            "left": null,
            "margin": null,
            "max_height": null,
            "max_width": null,
            "min_height": null,
            "min_width": null,
            "object_fit": null,
            "object_position": null,
            "order": null,
            "overflow": null,
            "overflow_x": null,
            "overflow_y": null,
            "padding": null,
            "right": null,
            "top": null,
            "visibility": null,
            "width": null
          }
        },
        "e328a812c7d34cc6932ef087b97b496b": {
          "model_module": "@jupyter-widgets/base",
          "model_name": "LayoutModel",
          "model_module_version": "1.2.0",
          "state": {
            "_model_module": "@jupyter-widgets/base",
            "_model_module_version": "1.2.0",
            "_model_name": "LayoutModel",
            "_view_count": null,
            "_view_module": "@jupyter-widgets/base",
            "_view_module_version": "1.2.0",
            "_view_name": "LayoutView",
            "align_content": null,
            "align_items": null,
            "align_self": null,
            "border": null,
            "bottom": null,
            "display": null,
            "flex": null,
            "flex_flow": null,
            "grid_area": null,
            "grid_auto_columns": null,
            "grid_auto_flow": null,
            "grid_auto_rows": null,
            "grid_column": null,
            "grid_gap": null,
            "grid_row": null,
            "grid_template_areas": null,
            "grid_template_columns": null,
            "grid_template_rows": null,
            "height": null,
            "justify_content": null,
            "justify_items": null,
            "left": null,
            "margin": null,
            "max_height": null,
            "max_width": null,
            "min_height": null,
            "min_width": null,
            "object_fit": null,
            "object_position": null,
            "order": null,
            "overflow": null,
            "overflow_x": null,
            "overflow_y": null,
            "padding": null,
            "right": null,
            "top": null,
            "visibility": null,
            "width": null
          }
        },
        "56fdafd920e5468980113a1f89c10879": {
          "model_module": "@jupyter-widgets/controls",
          "model_name": "DescriptionStyleModel",
          "model_module_version": "1.5.0",
          "state": {
            "_model_module": "@jupyter-widgets/controls",
            "_model_module_version": "1.5.0",
            "_model_name": "DescriptionStyleModel",
            "_view_count": null,
            "_view_module": "@jupyter-widgets/base",
            "_view_module_version": "1.2.0",
            "_view_name": "StyleView",
            "description_width": ""
          }
        },
        "e93847fdb31b40308b94defaa32e3e93": {
          "model_module": "@jupyter-widgets/base",
          "model_name": "LayoutModel",
          "model_module_version": "1.2.0",
          "state": {
            "_model_module": "@jupyter-widgets/base",
            "_model_module_version": "1.2.0",
            "_model_name": "LayoutModel",
            "_view_count": null,
            "_view_module": "@jupyter-widgets/base",
            "_view_module_version": "1.2.0",
            "_view_name": "LayoutView",
            "align_content": null,
            "align_items": null,
            "align_self": null,
            "border": null,
            "bottom": null,
            "display": null,
            "flex": null,
            "flex_flow": null,
            "grid_area": null,
            "grid_auto_columns": null,
            "grid_auto_flow": null,
            "grid_auto_rows": null,
            "grid_column": null,
            "grid_gap": null,
            "grid_row": null,
            "grid_template_areas": null,
            "grid_template_columns": null,
            "grid_template_rows": null,
            "height": null,
            "justify_content": null,
            "justify_items": null,
            "left": null,
            "margin": null,
            "max_height": null,
            "max_width": null,
            "min_height": null,
            "min_width": null,
            "object_fit": null,
            "object_position": null,
            "order": null,
            "overflow": null,
            "overflow_x": null,
            "overflow_y": null,
            "padding": null,
            "right": null,
            "top": null,
            "visibility": null,
            "width": null
          }
        },
        "93e215f588694410ae02a1bbd798e547": {
          "model_module": "@jupyter-widgets/controls",
          "model_name": "ProgressStyleModel",
          "model_module_version": "1.5.0",
          "state": {
            "_model_module": "@jupyter-widgets/controls",
            "_model_module_version": "1.5.0",
            "_model_name": "ProgressStyleModel",
            "_view_count": null,
            "_view_module": "@jupyter-widgets/base",
            "_view_module_version": "1.2.0",
            "_view_name": "StyleView",
            "bar_color": null,
            "description_width": ""
          }
        },
        "5d989097e88c43fd9757f2e62e026eb5": {
          "model_module": "@jupyter-widgets/base",
          "model_name": "LayoutModel",
          "model_module_version": "1.2.0",
          "state": {
            "_model_module": "@jupyter-widgets/base",
            "_model_module_version": "1.2.0",
            "_model_name": "LayoutModel",
            "_view_count": null,
            "_view_module": "@jupyter-widgets/base",
            "_view_module_version": "1.2.0",
            "_view_name": "LayoutView",
            "align_content": null,
            "align_items": null,
            "align_self": null,
            "border": null,
            "bottom": null,
            "display": null,
            "flex": null,
            "flex_flow": null,
            "grid_area": null,
            "grid_auto_columns": null,
            "grid_auto_flow": null,
            "grid_auto_rows": null,
            "grid_column": null,
            "grid_gap": null,
            "grid_row": null,
            "grid_template_areas": null,
            "grid_template_columns": null,
            "grid_template_rows": null,
            "height": null,
            "justify_content": null,
            "justify_items": null,
            "left": null,
            "margin": null,
            "max_height": null,
            "max_width": null,
            "min_height": null,
            "min_width": null,
            "object_fit": null,
            "object_position": null,
            "order": null,
            "overflow": null,
            "overflow_x": null,
            "overflow_y": null,
            "padding": null,
            "right": null,
            "top": null,
            "visibility": null,
            "width": null
          }
        },
        "42c56748edb8499e80d6fb0bf6a14c60": {
          "model_module": "@jupyter-widgets/controls",
          "model_name": "DescriptionStyleModel",
          "model_module_version": "1.5.0",
          "state": {
            "_model_module": "@jupyter-widgets/controls",
            "_model_module_version": "1.5.0",
            "_model_name": "DescriptionStyleModel",
            "_view_count": null,
            "_view_module": "@jupyter-widgets/base",
            "_view_module_version": "1.2.0",
            "_view_name": "StyleView",
            "description_width": ""
          }
        },
        "40115bc2aa2f4c7e9233fafbb8b59f71": {
          "model_module": "@jupyter-widgets/controls",
          "model_name": "HBoxModel",
          "model_module_version": "1.5.0",
          "state": {
            "_dom_classes": [],
            "_model_module": "@jupyter-widgets/controls",
            "_model_module_version": "1.5.0",
            "_model_name": "HBoxModel",
            "_view_count": null,
            "_view_module": "@jupyter-widgets/controls",
            "_view_module_version": "1.5.0",
            "_view_name": "HBoxView",
            "box_style": "",
            "children": [
              "IPY_MODEL_6f2aff29f7124d509190c0bf49002c28",
              "IPY_MODEL_e198114fc5d34d88bde0f7854d99670c",
              "IPY_MODEL_b130ee885d8f4fab919478b625f54f90"
            ],
            "layout": "IPY_MODEL_4bda00c83f904b80a4a498e1d8650d6b"
          }
        },
        "6f2aff29f7124d509190c0bf49002c28": {
          "model_module": "@jupyter-widgets/controls",
          "model_name": "HTMLModel",
          "model_module_version": "1.5.0",
          "state": {
            "_dom_classes": [],
            "_model_module": "@jupyter-widgets/controls",
            "_model_module_version": "1.5.0",
            "_model_name": "HTMLModel",
            "_view_count": null,
            "_view_module": "@jupyter-widgets/controls",
            "_view_module_version": "1.5.0",
            "_view_name": "HTMLView",
            "description": "",
            "description_tooltip": null,
            "layout": "IPY_MODEL_3e94df2ab38e4c5790887672f97d3fa5",
            "placeholder": "​",
            "style": "IPY_MODEL_493bfd89ccc64d71b14fb9cf572e37ef",
            "value": "100%"
          }
        },
        "e198114fc5d34d88bde0f7854d99670c": {
          "model_module": "@jupyter-widgets/controls",
          "model_name": "FloatProgressModel",
          "model_module_version": "1.5.0",
          "state": {
            "_dom_classes": [],
            "_model_module": "@jupyter-widgets/controls",
            "_model_module_version": "1.5.0",
            "_model_name": "FloatProgressModel",
            "_view_count": null,
            "_view_module": "@jupyter-widgets/controls",
            "_view_module_version": "1.5.0",
            "_view_name": "ProgressView",
            "bar_style": "success",
            "description": "",
            "description_tooltip": null,
            "layout": "IPY_MODEL_6b44acdf8a1a49e7bba8e27efe582e08",
            "max": 282,
            "min": 0,
            "orientation": "horizontal",
            "style": "IPY_MODEL_ff3e63ad73534a1abf096c2f3e024277",
            "value": 282
          }
        },
        "b130ee885d8f4fab919478b625f54f90": {
          "model_module": "@jupyter-widgets/controls",
          "model_name": "HTMLModel",
          "model_module_version": "1.5.0",
          "state": {
            "_dom_classes": [],
            "_model_module": "@jupyter-widgets/controls",
            "_model_module_version": "1.5.0",
            "_model_name": "HTMLModel",
            "_view_count": null,
            "_view_module": "@jupyter-widgets/controls",
            "_view_module_version": "1.5.0",
            "_view_name": "HTMLView",
            "description": "",
            "description_tooltip": null,
            "layout": "IPY_MODEL_bdd71cc645f24b1b8f1a28ea32ab5edb",
            "placeholder": "​",
            "style": "IPY_MODEL_0ce40da1858a42419ce1900ddffe8f7b",
            "value": " 282/282 [00:23&lt;00:00, 12.83it/s]"
          }
        },
        "4bda00c83f904b80a4a498e1d8650d6b": {
          "model_module": "@jupyter-widgets/base",
          "model_name": "LayoutModel",
          "model_module_version": "1.2.0",
          "state": {
            "_model_module": "@jupyter-widgets/base",
            "_model_module_version": "1.2.0",
            "_model_name": "LayoutModel",
            "_view_count": null,
            "_view_module": "@jupyter-widgets/base",
            "_view_module_version": "1.2.0",
            "_view_name": "LayoutView",
            "align_content": null,
            "align_items": null,
            "align_self": null,
            "border": null,
            "bottom": null,
            "display": null,
            "flex": null,
            "flex_flow": null,
            "grid_area": null,
            "grid_auto_columns": null,
            "grid_auto_flow": null,
            "grid_auto_rows": null,
            "grid_column": null,
            "grid_gap": null,
            "grid_row": null,
            "grid_template_areas": null,
            "grid_template_columns": null,
            "grid_template_rows": null,
            "height": null,
            "justify_content": null,
            "justify_items": null,
            "left": null,
            "margin": null,
            "max_height": null,
            "max_width": null,
            "min_height": null,
            "min_width": null,
            "object_fit": null,
            "object_position": null,
            "order": null,
            "overflow": null,
            "overflow_x": null,
            "overflow_y": null,
            "padding": null,
            "right": null,
            "top": null,
            "visibility": null,
            "width": null
          }
        },
        "3e94df2ab38e4c5790887672f97d3fa5": {
          "model_module": "@jupyter-widgets/base",
          "model_name": "LayoutModel",
          "model_module_version": "1.2.0",
          "state": {
            "_model_module": "@jupyter-widgets/base",
            "_model_module_version": "1.2.0",
            "_model_name": "LayoutModel",
            "_view_count": null,
            "_view_module": "@jupyter-widgets/base",
            "_view_module_version": "1.2.0",
            "_view_name": "LayoutView",
            "align_content": null,
            "align_items": null,
            "align_self": null,
            "border": null,
            "bottom": null,
            "display": null,
            "flex": null,
            "flex_flow": null,
            "grid_area": null,
            "grid_auto_columns": null,
            "grid_auto_flow": null,
            "grid_auto_rows": null,
            "grid_column": null,
            "grid_gap": null,
            "grid_row": null,
            "grid_template_areas": null,
            "grid_template_columns": null,
            "grid_template_rows": null,
            "height": null,
            "justify_content": null,
            "justify_items": null,
            "left": null,
            "margin": null,
            "max_height": null,
            "max_width": null,
            "min_height": null,
            "min_width": null,
            "object_fit": null,
            "object_position": null,
            "order": null,
            "overflow": null,
            "overflow_x": null,
            "overflow_y": null,
            "padding": null,
            "right": null,
            "top": null,
            "visibility": null,
            "width": null
          }
        },
        "493bfd89ccc64d71b14fb9cf572e37ef": {
          "model_module": "@jupyter-widgets/controls",
          "model_name": "DescriptionStyleModel",
          "model_module_version": "1.5.0",
          "state": {
            "_model_module": "@jupyter-widgets/controls",
            "_model_module_version": "1.5.0",
            "_model_name": "DescriptionStyleModel",
            "_view_count": null,
            "_view_module": "@jupyter-widgets/base",
            "_view_module_version": "1.2.0",
            "_view_name": "StyleView",
            "description_width": ""
          }
        },
        "6b44acdf8a1a49e7bba8e27efe582e08": {
          "model_module": "@jupyter-widgets/base",
          "model_name": "LayoutModel",
          "model_module_version": "1.2.0",
          "state": {
            "_model_module": "@jupyter-widgets/base",
            "_model_module_version": "1.2.0",
            "_model_name": "LayoutModel",
            "_view_count": null,
            "_view_module": "@jupyter-widgets/base",
            "_view_module_version": "1.2.0",
            "_view_name": "LayoutView",
            "align_content": null,
            "align_items": null,
            "align_self": null,
            "border": null,
            "bottom": null,
            "display": null,
            "flex": null,
            "flex_flow": null,
            "grid_area": null,
            "grid_auto_columns": null,
            "grid_auto_flow": null,
            "grid_auto_rows": null,
            "grid_column": null,
            "grid_gap": null,
            "grid_row": null,
            "grid_template_areas": null,
            "grid_template_columns": null,
            "grid_template_rows": null,
            "height": null,
            "justify_content": null,
            "justify_items": null,
            "left": null,
            "margin": null,
            "max_height": null,
            "max_width": null,
            "min_height": null,
            "min_width": null,
            "object_fit": null,
            "object_position": null,
            "order": null,
            "overflow": null,
            "overflow_x": null,
            "overflow_y": null,
            "padding": null,
            "right": null,
            "top": null,
            "visibility": null,
            "width": null
          }
        },
        "ff3e63ad73534a1abf096c2f3e024277": {
          "model_module": "@jupyter-widgets/controls",
          "model_name": "ProgressStyleModel",
          "model_module_version": "1.5.0",
          "state": {
            "_model_module": "@jupyter-widgets/controls",
            "_model_module_version": "1.5.0",
            "_model_name": "ProgressStyleModel",
            "_view_count": null,
            "_view_module": "@jupyter-widgets/base",
            "_view_module_version": "1.2.0",
            "_view_name": "StyleView",
            "bar_color": null,
            "description_width": ""
          }
        },
        "bdd71cc645f24b1b8f1a28ea32ab5edb": {
          "model_module": "@jupyter-widgets/base",
          "model_name": "LayoutModel",
          "model_module_version": "1.2.0",
          "state": {
            "_model_module": "@jupyter-widgets/base",
            "_model_module_version": "1.2.0",
            "_model_name": "LayoutModel",
            "_view_count": null,
            "_view_module": "@jupyter-widgets/base",
            "_view_module_version": "1.2.0",
            "_view_name": "LayoutView",
            "align_content": null,
            "align_items": null,
            "align_self": null,
            "border": null,
            "bottom": null,
            "display": null,
            "flex": null,
            "flex_flow": null,
            "grid_area": null,
            "grid_auto_columns": null,
            "grid_auto_flow": null,
            "grid_auto_rows": null,
            "grid_column": null,
            "grid_gap": null,
            "grid_row": null,
            "grid_template_areas": null,
            "grid_template_columns": null,
            "grid_template_rows": null,
            "height": null,
            "justify_content": null,
            "justify_items": null,
            "left": null,
            "margin": null,
            "max_height": null,
            "max_width": null,
            "min_height": null,
            "min_width": null,
            "object_fit": null,
            "object_position": null,
            "order": null,
            "overflow": null,
            "overflow_x": null,
            "overflow_y": null,
            "padding": null,
            "right": null,
            "top": null,
            "visibility": null,
            "width": null
          }
        },
        "0ce40da1858a42419ce1900ddffe8f7b": {
          "model_module": "@jupyter-widgets/controls",
          "model_name": "DescriptionStyleModel",
          "model_module_version": "1.5.0",
          "state": {
            "_model_module": "@jupyter-widgets/controls",
            "_model_module_version": "1.5.0",
            "_model_name": "DescriptionStyleModel",
            "_view_count": null,
            "_view_module": "@jupyter-widgets/base",
            "_view_module_version": "1.2.0",
            "_view_name": "StyleView",
            "description_width": ""
          }
        }
      }
    }
  },
  "nbformat": 4,
  "nbformat_minor": 0
}